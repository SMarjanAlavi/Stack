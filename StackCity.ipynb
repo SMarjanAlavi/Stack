{
 "cells": [
  {
   "cell_type": "markdown",
   "metadata": {},
   "source": [
    "# What are the most frequently used Computer Skills in Toronto?"
   ]
  },
  {
   "cell_type": "code",
   "execution_count": 4,
   "metadata": {},
   "outputs": [],
   "source": [
    "import pandas as pd\n",
    "import numpy as np\n",
    "from numpy import genfromtxt\n",
    "from matplotlib.pyplot import plot"
   ]
  },
  {
   "cell_type": "code",
   "execution_count": 267,
   "metadata": {},
   "outputs": [],
   "source": [
    "# Read the data from the result of the query file\n",
    "#Download data from \"http://data.stackexchange.com/stackoverflow/query/edit/877382\"\n",
    "df=pd.read_csv(\"Toronto20170708_20180707.csv\", sep=',')"
   ]
  },
  {
   "cell_type": "code",
   "execution_count": 91,
   "metadata": {},
   "outputs": [
    {
     "name": "stdout",
     "output_type": "stream",
     "text": [
      "We are investigating 11707 posts from 2017-07-08 03:48:34 to 2018-07-06 21:21:11\n",
      "           TagId\n",
      "           count\n",
      "TagName         \n",
      "javascript   442\n",
      "python       325\n",
      "android      301\n",
      "php          288\n",
      "java         272\n",
      "ios          196\n",
      "html         167\n",
      "c            150\n",
      "c#           148\n",
      "sql          129\n"
     ]
    }
   ],
   "source": [
    "df1 = df.loc[:, ['Date','TagName','TagId']]#.sort_values(('Date'),ascending=False)\n",
    "#df1.describe()\n",
    "print('We are investigating', len(df1), 'posts from', min(df1['Date']),'to', max(df1['Date']))\n",
    "#print(df1.sort_values(('Date'),ascending=False))\n",
    "df2 = df1.loc[:, ['TagName','TagId']]\n",
    "df3 = df2.groupby(['TagName']).agg({'count'})\n",
    "#print(df2)\n",
    "#df2.describe()\n",
    "#list(df2)\n",
    "df4 = df3.sort_values(('TagId','count'),ascending=False).head(10)\n",
    "print(df4)"
   ]
  },
  {
   "cell_type": "markdown",
   "metadata": {},
   "source": [
    "# Plot 1"
   ]
  },
  {
   "cell_type": "code",
   "execution_count": 7,
   "metadata": {},
   "outputs": [
    {
     "data": {
      "image/png": "[encoded data removed]",
      "text/plain": [
       "<matplotlib.figure.Figure at 0x92f1fd0>"
      ]
     },
     "metadata": {},
     "output_type": "display_data"
    }
   ],
   "source": [
    "fig = df4.plot.bar(title = 'Most frequent recent computer skills used in Toronto \\n (during July 8, 2017 to July 7, 2018)');\n",
    "fig.legend_.remove();\n",
    "fig.set_xlabel(\"Skills\");\n",
    "fig.set_ylabel(\"Number of releavant Tags\\n in the StackOverflow posts\");"
   ]
  },
  {
   "cell_type": "code",
   "execution_count": 8,
   "metadata": {},
   "outputs": [
    {
     "name": "stdout",
     "output_type": "stream",
     "text": [
      "{'Toronto, ON, Canada', 'Toronto', 'Toronto, ON'}\n",
      "The post are from 3 locations.\n"
     ]
    }
   ],
   "source": [
    "LocationsList = df['Location'].tolist()\n",
    "myset = set(LocationsList)\n",
    "print(myset)\n",
    "print('The post are from', len(myset), 'locations.')"
   ]
  },
  {
   "cell_type": "markdown",
   "metadata": {},
   "source": [
    "# What is the technology trend in the past months?"
   ]
  },
  {
   "cell_type": "code",
   "execution_count": 43,
   "metadata": {},
   "outputs": [
    {
     "name": "stdout",
     "output_type": "stream",
     "text": [
      "           TagId\n",
      "           count\n",
      "TagName         \n",
      "python        41\n",
      "android       38\n",
      "javascript    34\n",
      "ios           34\n",
      "java          23\n",
      "php           22\n",
      "swift         19\n",
      "xcode         15\n",
      "html          12\n",
      "jquery        10\n"
     ]
    }
   ],
   "source": [
    "# Select Toronto Post for each month in 2018 and see the 5 highest number of tags\n",
    "dM= df.loc[:, ['Date','TagName','TagId']]\n",
    "#dM.describe()\n",
    "#print(dM)\n",
    "dM1 = dM.drop(dM[(dM['Date'] < '2018-06-01')].index)\n",
    "dM2 = dM1.drop(dM[(dM['Date'] > '2018-07-01')].index)\n",
    "#print(dJune2018.sort_values(('Date'),ascending=False))\n",
    "dM3 = dM2.loc[:, ['TagName','TagId']]\n",
    "dM4 = dM3.groupby(['TagName']).agg({'count'})\n",
    "#print(dM2)\n",
    "#dM2.describe()\n",
    "#list(dM2)\n",
    "dM5 = dM4.sort_values(('TagId','count'),ascending=False).head(10)\n",
    "print(dM5)\n",
    "dJune18 = dM5"
   ]
  },
  {
   "cell_type": "code",
   "execution_count": 44,
   "metadata": {},
   "outputs": [
    {
     "name": "stdout",
     "output_type": "stream",
     "text": [
      "           TagId\n",
      "           count\n",
      "TagName         \n",
      "python        46\n",
      "java          40\n",
      "javascript    35\n",
      "php           32\n",
      "android       31\n",
      "ios           18\n",
      "html          18\n",
      "jquery        17\n",
      "laravel       13\n",
      "c#            12\n"
     ]
    }
   ],
   "source": [
    "# Select Toronto Post for each month in 2018 and see the 5 highest number of tags\n",
    "dM= df.loc[:, ['Date','TagName','TagId']]\n",
    "#dM.describe()\n",
    "#print(dM)\n",
    "dM1 = dM.drop(dM[(dM['Date'] < '2018-05-01')].index)\n",
    "dM2 = dM1.drop(dM[(dM['Date'] > '2018-06-01')].index)\n",
    "#print(dJune2018.sort_values(('Date'),ascending=False))\n",
    "dM3 = dM2.loc[:, ['TagName','TagId']]\n",
    "dM4 = dM3.groupby(['TagName']).agg({'count'})\n",
    "#print(dM2)\n",
    "#dM2.describe()\n",
    "#list(dM2)\n",
    "dM5 = dM4.sort_values(('TagId','count'),ascending=False).head(10)\n",
    "print(dM5)\n",
    "dMay18 = dM5"
   ]
  },
  {
   "cell_type": "code",
   "execution_count": 45,
   "metadata": {},
   "outputs": [
    {
     "name": "stdout",
     "output_type": "stream",
     "text": [
      "           TagId\n",
      "           count\n",
      "TagName         \n",
      "javascript    48\n",
      "php           35\n",
      "python        31\n",
      "android       30\n",
      "java          25\n",
      "c#            15\n",
      "reactjs       15\n",
      "ios           15\n",
      "c             14\n",
      "laravel       14\n"
     ]
    }
   ],
   "source": [
    "# Select Toronto Post for each month in 2018 and see the 5 highest number of tags\n",
    "dM= df.loc[:, ['Date','TagName','TagId']]\n",
    "#dM.describe()\n",
    "#print(dM)\n",
    "dM1 = dM.drop(dM[(dM['Date'] < '2018-04-01')].index)\n",
    "dM2 = dM1.drop(dM[(dM['Date'] > '2018-05-01')].index)\n",
    "#print(dJune2018.sort_values(('Date'),ascending=False))\n",
    "dM3 = dM2.loc[:, ['TagName','TagId']]\n",
    "dM4 = dM3.groupby(['TagName']).agg({'count'})\n",
    "#print(dM2)\n",
    "#dM2.describe()\n",
    "#list(dM2)\n",
    "dM5 = dM4.sort_values(('TagId','count'),ascending=False).head(10)\n",
    "print(dM5)\n",
    "dApril18 = dM5"
   ]
  },
  {
   "cell_type": "code",
   "execution_count": 46,
   "metadata": {},
   "outputs": [
    {
     "data": {
      "image/png": "[encoded data removed]",
      "text/plain": [
       "<matplotlib.figure.Figure at 0x7ced438>"
      ]
     },
     "metadata": {},
     "output_type": "display_data"
    }
   ],
   "source": [
    "fig = dM5.plot.bar(title = 'Most frequent recent computer skills used in Toronto \\n (In June  2017)');\n",
    "fig.legend_.remove();\n",
    "fig.set_xlabel(\"Skills\");\n",
    "fig.set_ylabel(\"Number of releavant Tags\\n in the StackOverflow posts\");"
   ]
  },
  {
   "cell_type": "code",
   "execution_count": 51,
   "metadata": {},
   "outputs": [
    {
     "name": "stdout",
     "output_type": "stream",
     "text": [
      "            June 2018  May18  April18\n",
      "TagName                              \n",
      "python             41     46       31\n",
      "android            38     31       30\n",
      "javascript         34     35       48\n",
      "ios                34     18       15\n",
      "java               23     40       25\n",
      "php                22     32       35\n"
     ]
    },
    {
     "data": {
      "image/png": "[encoded data removed]",
      "text/plain": [
       "<matplotlib.figure.Figure at 0xa84f7b8>"
      ]
     },
     "metadata": {},
     "output_type": "display_data"
    }
   ],
   "source": [
    "result = pd.concat([dJune18, dMay18, dApril18], axis=1, join='inner')\n",
    "symbols = ['June 2018', 'May18','April18']\n",
    "result.columns = symbols\n",
    "print(result)\n",
    "fig = result.plot.bar(title = 'Most frequent recent computer skills used in Toronto');\n",
    "fig.set_xlabel(\"Skills\");\n",
    "fig.set_ylabel(\"Number of releavant Tags\\n in the StackOverflow posts\");\n"
   ]
  }
 ],
 "metadata": {
  "kernelspec": {
   "display_name": "Python 3",
   "language": "python",
   "name": "python3"
  }
 },
 "nbformat": 4,
 "nbformat_minor": 2
}
