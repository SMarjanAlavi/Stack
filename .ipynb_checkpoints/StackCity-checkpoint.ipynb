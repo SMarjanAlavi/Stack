{
 "cells": [
  {
   "cell_type": "markdown",
   "metadata": {},
   "source": [
    "# Accessing StackExchange Data\n",
    "SELECT Users.Id As UserId, Users.DisplayName As UserName, Posts.LastActivityDate As Date, Users.Location AS Location, Posts.Id AS PostId, PostTags.TagId AS TagId, Tags.TagName AS TagName\n",
    "FROM Posts INNER JOIN Users ON Posts.LastEditorUserId = Users.Id INNER JOIN PostTags ON Posts.Id = PostTags.PostId INNER JOIN Tags ON Tags.Id = PostTags.TagId"
   ]
  },
  {
   "cell_type": "code",
   "execution_count": null,
   "metadata": {},
   "outputs": [],
   "source": []
  },
  {
   "cell_type": "code",
   "execution_count": null,
   "metadata": {},
   "outputs": [],
   "source": []
  },
  {
   "cell_type": "code",
   "execution_count": null,
   "metadata": {},
   "outputs": [],
   "source": []
  },
  {
   "cell_type": "code",
   "execution_count": 429,
   "metadata": {},
   "outputs": [],
   "source": [
    "import pandas as pd\n",
    "import numpy as np\n",
    "from numpy import genfromtxt\n",
    "\n",
    "from matplotlib.pyplot import plot\n",
    "\n",
    "#from sklearn.ensemble import RandomForestRegressor\n",
    "#from sklearn.metrics import roc_auc_score\n",
    "#from sklearn.model_selection import KFold\n",
    "#import time\n",
    "#from lightgbm import LGBMClassifier\n",
    "#import lightgbm as lgb\n",
    "\n",
    "#import matplotlib.pyplot as plt\n",
    "#import seaborn as sns\n",
    "#%matplotlib inline\n",
    "\n",
    "#import warnings\n",
    "#warnings.simplefilter('ignore', UserWarning)\n",
    "\n",
    "#import gc\n",
    "#gc.enable()\n",
    "\n",
    "#from collections import defaultdict\n",
    "#from sklearn.preprocessing import LabelEncoder\n",
    "#from sklearn.metrics import mean_absolute_error\n"
   ]
  },
  {
   "cell_type": "code",
   "execution_count": 412,
   "metadata": {},
   "outputs": [],
   "source": [
    "# Read the data from the result of the query file\n",
    "df=pd.read_csv('C:/Users/alavimar/ML/Stack/Toronto20170708_20180707.csv', sep=',')"
   ]
  },
  {
   "cell_type": "code",
   "execution_count": 419,
   "metadata": {},
   "outputs": [
    {
     "name": "stdout",
     "output_type": "stream",
     "text": [
      "We are investigating 11707 posts from 2017-07-08 03:48:34 to 2018-07-06 21:21:11\n",
      "           TagId\n",
      "           count\n",
      "TagName         \n",
      "javascript   442\n",
      "python       325\n",
      "android      301\n",
      "php          288\n",
      "java         272\n",
      "ios          196\n",
      "html         167\n",
      "c            150\n",
      "c#           148\n",
      "sql          129\n"
     ]
    }
   ],
   "source": [
    "df1 = df.loc[:, ['Date','TagName','TagId']]#.sort_values(('Date'),ascending=False)\n",
    "#df1.describe()\n",
    "print('We are investigating', len(df1), 'posts from', min(df1['Date']),'to', max(df1['Date']))\n",
    "#print(df1.sort_values(('Date'),ascending=False))\n",
    "df2 = df1.loc[:, ['TagName','TagId']]\n",
    "df3 = df2.groupby(['TagName']).agg({'count'})\n",
    "#print(df2)\n",
    "#df2.describe()\n",
    "#list(df2)\n",
    "df4 = df3.sort_values(('TagId','count'),ascending=False).head(10)\n",
    "print(df4)\n"
   ]
  },
  {
   "cell_type": "markdown",
   "metadata": {},
   "source": [
    "# Plot 1"
   ]
  },
  {
   "cell_type": "code",
   "execution_count": 449,
   "metadata": {},
   "outputs": [
    {
     "data": {
      "text/plain": [
       "Text(0,0.5,'Number of releavant Tags\\nin the StackOverflow posts')"
      ]
     },
     "execution_count": 449,
     "metadata": {},
     "output_type": "execute_result"
    },
    {
     "data": {
      "image/png": "[encoded data removed]",
      "text/plain": [
       "<matplotlib.figure.Figure at 0x13d07be0>"
      ]
     },
     "metadata": {},
     "output_type": "display_data"
    }
   ],
   "source": [
    "#fig = plot.figure()\n",
    "fig = df4.plot.bar(title = 'Most frequent recent computer skills used in Toronto \\n (during July 8, 2017 to July 7, 2018)');\n",
    "fig.legend_.remove()\n",
    "fig.set_xlabel(\"Skills\")\n",
    "fig.set_ylabel(\"Number of releavant Tags\\nin the StackOverflow posts\")\n",
    "#plt.plot(data)\n",
    "#plot.title('test title', fontsize=20)\n",
    "#plot.xlabel('xlabel', fontsize=18)\n",
    "#plot.ylabel('ylabel', fontsize=16)\n",
    "#fig.savefig('test.jpg')"
   ]
  },
  {
   "cell_type": "code",
   "execution_count": 450,
   "metadata": {
    "scrolled": true
   },
   "outputs": [
    {
     "name": "stdout",
     "output_type": "stream",
     "text": [
      "                     TagId\n",
      "                     count\n",
      "TagName                   \n",
      ".htaccess                8\n",
      ".net                    29\n",
      ".net-4.6.2               1\n",
      ".net-assembly            2\n",
      ".net-core                8\n",
      "360-panorama             1\n",
      "3d                       1\n",
      "aac                      1\n",
      "aar                      1\n",
      "abstract                 1\n",
      "access-vba               3\n",
      "accessibility            4\n",
      "achartengine             1\n",
      "acrobat                  2\n",
      "action                   2\n",
      "action-filter            1\n",
      "actions-on-google        4\n",
      "actionscript-3           2\n",
      "active-directory         1\n",
      "activeadmin              1\n",
      "activerecord             6\n",
      "activex                  1\n",
      "activity-recognition     1\n",
      "actor                    1\n",
      "acts-as-audited          1\n",
      "adabas                   1\n",
      "adb                      1\n",
      "add                      1\n",
      "add-on                   1\n",
      "address-sanitizer        1\n",
      "...                    ...\n",
      "xslt                     5\n",
      "xslt-1.0                 2\n",
      "xslt-2.0                 1\n",
      "xss                      1\n",
      "xval                     1\n",
      "yaml                     2\n",
      "yarn                     3\n",
      "yii2                     1\n",
      "yoast                    1\n",
      "yodlee                   1\n",
      "yolo                     1\n",
      "youcompleteme            1\n",
      "yourkit                  1\n",
      "youtube                  4\n",
      "youtube-api              1\n",
      "z-index                  1\n",
      "zappdev                  1\n",
      "zebra                    1\n",
      "zend-framework           1\n",
      "zend-framework2          1\n",
      "zend-pdf                 1\n",
      "zend-soap                1\n",
      "zero                     1\n",
      "zeromq                   2\n",
      "zip                      2\n",
      "zipper                   1\n",
      "zoom                     1\n",
      "zos                      2\n",
      "zsh                      1\n",
      "zurb-foundation          1\n",
      "\n",
      "[3121 rows x 1 columns]\n"
     ]
    }
   ],
   "source": [
    "print(df3)"
   ]
  },
  {
   "cell_type": "code",
   "execution_count": null,
   "metadata": {},
   "outputs": [],
   "source": [
    "LocationsList = df['Location'].tolist()\n",
    "myset = set(LocationsList)\n",
    "print(myset)\n",
    "print('The post are from', len(myset), 'locations.')"
   ]
  },
  {
   "cell_type": "markdown",
   "metadata": {},
   "source": [
    "# Now, we want to investigate the data from Toronto. "
   ]
  },
  {
   "cell_type": "code",
   "execution_count": 289,
   "metadata": {},
   "outputs": [],
   "source": [
    "# Read the data from the result of the query file\n",
    "df_Toronto=pd.read_csv('C:/Users/alavimar/ML/Stack/QueryResultsToronto.csv', sep=',')"
   ]
  },
  {
   "cell_type": "code",
   "execution_count": 311,
   "metadata": {},
   "outputs": [
    {
     "name": "stdout",
     "output_type": "stream",
     "text": [
      "           TagId\n",
      "           count\n",
      "TagName         \n",
      "javascript  1372\n",
      "java        1194\n",
      "android      999\n",
      "php          829\n",
      "python       809\n"
     ]
    }
   ],
   "source": [
    "dfT1 = df_Toronto.loc[:, ['TagName','TagId']]\n",
    "#df1.describe()\n",
    "#print(df1)\n",
    "dfT2 = dfT1.groupby(['TagName']).agg({'count'})\n",
    "#print(df2)\n",
    "#df2.describe()\n",
    "#list(df2)\n",
    "dfT3 = dfT2.sort_values(('TagId','count'),ascending=False)\n",
    "print(dfT3.head())"
   ]
  },
  {
   "cell_type": "markdown",
   "metadata": {},
   "source": [
    "# What is the technology trend in the past months?"
   ]
  },
  {
   "cell_type": "code",
   "execution_count": 336,
   "metadata": {},
   "outputs": [
    {
     "name": "stdout",
     "output_type": "stream",
     "text": [
      "                      Date             Location               TagName  TagId\n",
      "0      2010-09-28 17:14:06  Toronto, ON, Canada                  java     17\n",
      "1      2011-11-25 01:35:01  Toronto, ON, Canada               haskell   1925\n",
      "2      2011-11-27 22:02:13  Toronto, ON, Canada               haskell   1925\n",
      "3      2012-02-15 13:16:26  Toronto, ON, Canada               haskell   1925\n",
      "4      2012-03-02 19:02:13  Toronto, ON, Canada               haskell   1925\n",
      "5      2012-06-25 07:03:45  Toronto, ON, Canada               haskell   1925\n",
      "6      2012-10-03 03:23:22  Toronto, ON, Canada               haskell   1925\n",
      "7      2015-01-18 02:04:24  Toronto, ON, Canada               haskell   1925\n",
      "8      2017-05-13 08:23:02  Toronto, ON, Canada                  java     17\n",
      "9      2010-05-20 13:21:46  Toronto, ON, Canada                  html      2\n",
      "10     2010-08-20 13:24:10  Toronto, ON, Canada                  html      2\n",
      "11     2017-11-09 06:17:02  Toronto, ON, Canada              checkbox    469\n",
      "12     2012-11-14 12:10:34  Toronto, ON, Canada                  java     17\n",
      "13     2012-11-16 17:09:29  Toronto, ON, Canada                  java     17\n",
      "14     2012-10-01 15:24:36              Toronto                  html      2\n",
      "15     2013-05-21 20:17:30  Toronto, ON, Canada                  java     17\n",
      "16     2017-04-03 16:35:30  Toronto, ON, Canada                  java     17\n",
      "17     2013-03-07 13:09:17  Toronto, ON, Canada                   bdd    485\n",
      "18     2013-10-11 06:45:27  Toronto, ON, Canada                  html      2\n",
      "19     2016-03-14 10:20:46  Toronto, ON, Canada    variadic-templates  66434\n",
      "20     2010-09-28 17:14:06  Toronto, ON, Canada           concurrency    511\n",
      "21     2013-10-02 20:39:42  Toronto, ON, Canada                  java     17\n",
      "22     2016-08-25 01:01:35  Toronto, ON, Canada                  java     17\n",
      "23     2013-10-20 00:48:33  Toronto, ON, Canada                  java     17\n",
      "24     2013-10-21 05:34:15  Toronto, ON, Canada                  java     17\n",
      "25     2015-01-20 06:28:14              Toronto                  html      2\n",
      "26     2015-01-27 06:39:39              Toronto                  html      2\n",
      "27     2015-02-01 04:42:26  Toronto, ON, Canada                  html      2\n",
      "28     2015-02-10 18:27:58              Toronto                  html      2\n",
      "29     2015-02-20 05:57:09  Toronto, ON, Canada                  html      2\n",
      "...                    ...                  ...                   ...    ...\n",
      "36369  2018-05-08 00:36:33  Toronto, ON, Canada            amazon-ec2  12375\n",
      "36370  2015-05-05 18:34:28              Toronto                heroku   8279\n",
      "36371  2016-08-14 14:22:46          Toronto, ON                heroku   8279\n",
      "36372  2017-08-31 14:28:54  Toronto, ON, Canada                heroku   8279\n",
      "36373  2017-09-08 20:43:04  Toronto, ON, Canada                heroku   8279\n",
      "36374  2015-02-12 21:24:39              Toronto         beautifulsoup   8488\n",
      "36375  2011-11-26 04:09:13  Toronto, ON, Canada                   ujs  58376\n",
      "36376  2012-06-28 21:23:57  Toronto, ON, Canada          android-c2dm  58391\n",
      "36377  2018-01-14 19:17:08  Toronto, ON, Canada            continuous   9850\n",
      "36378  2017-06-28 00:15:05  Toronto, ON, Canada               wsadmin   9891\n",
      "36379  2012-05-21 16:45:57  Toronto, ON, Canada  accelerate-framework  63538\n",
      "36380  2015-06-16 17:59:22  Toronto, ON, Canada           sqlbulkcopy  11561\n",
      "36381  2013-10-17 21:35:00  Toronto, ON, Canada       django-unittest  63673\n",
      "36382  2018-07-11 16:31:48  Toronto, ON, Canada      type-declaration  63756\n",
      "36383  2015-06-15 16:56:58  Toronto, ON, Canada            page-break  10575\n",
      "36384  2014-01-23 05:14:49  Toronto, ON, Canada               dataset  11094\n",
      "36385  2014-08-25 12:58:16  Toronto, ON, Canada       multiple-tables  12576\n",
      "36386  2016-05-11 05:51:53  Toronto, ON, Canada     webservice-client  12724\n",
      "36387  2018-05-15 10:15:28  Toronto, ON, Canada                wizard  12047\n",
      "36388  2016-05-30 02:52:49  Toronto, ON, Canada               libcurl  12163\n",
      "36389  2017-11-26 15:26:45  Toronto, ON, Canada              rollback  12196\n",
      "36390  2012-12-28 21:03:40  Toronto, ON, Canada                pickle  12224\n",
      "36391  2014-03-22 17:23:41  Toronto, ON, Canada                pickle  12224\n",
      "36392  2017-03-21 17:31:47  Toronto, ON, Canada                jqgrid  11204\n",
      "36393  2013-06-05 03:54:15  Toronto, ON, Canada             databound  11211\n",
      "36394  2016-05-03 16:42:32  Toronto, ON, Canada            identifier  11212\n",
      "36395  2012-11-25 18:14:42  Toronto, ON, Canada              web-farm  12464\n",
      "36396  2013-08-07 16:02:01  Toronto, ON, Canada    character-encoding  12658\n",
      "36397  2017-10-14 08:20:24  Toronto, ON, Canada    character-encoding  12658\n",
      "36398  2018-02-05 16:05:59  Toronto, ON, Canada    character-encoding  12658\n",
      "\n",
      "[36399 rows x 4 columns]\n"
     ]
    }
   ],
   "source": [
    "# Select Toronto Post for each month in 2018 and see the 5 highest number of tags\n",
    "\n",
    "dfTD1 = df_Toronto.loc[:, ['Date', 'Location','TagName','TagId']]\n",
    "#dfTD1.describe()\n",
    "#print(dfTD1)\n",
    "dfJan = dfTD1.drop(dfTD1[((dfTD1['Date'] > '2018-01-01') & (dfTD1['Date'] < '2017-01-01'))].index)\n",
    "print(dfJan)\n",
    "dfTD3 = dfJan.groupby(['TagName']).agg({'count'})\n",
    "#print(df2)\n",
    "#df2.describe()\n",
    "#list(df2)\n",
    "dfTD4 = dfTD3.sort_values(('TagId','count'),ascending=False)\n",
    "#print(dfTD4.head())"
   ]
  },
  {
   "cell_type": "code",
   "execution_count": 331,
   "metadata": {},
   "outputs": [
    {
     "name": "stdout",
     "output_type": "stream",
     "text": [
      "                      Date             Location              TagName   TagId\n",
      "32     2018-05-14 18:28:24  Toronto, ON, Canada                 ssis    2175\n",
      "36     2018-04-07 22:43:22  Toronto, ON, Canada    gl-triangle-strip   68315\n",
      "39     2018-07-06 18:25:13  Toronto, ON, Canada                 html       2\n",
      "62     2018-06-28 07:31:05  Toronto, ON, Canada           javascript       3\n",
      "93     2018-04-03 14:46:32  Toronto, ON, Canada                 java      17\n",
      "94     2018-04-02 11:53:35  Toronto, ON, Canada                 java      17\n",
      "95     2018-04-04 03:40:44  Toronto, ON, Canada                 java      17\n",
      "96     2018-04-17 15:50:53  Toronto, ON, Canada                 java      17\n",
      "97     2018-04-17 07:39:46  Toronto, ON, Canada                 java      17\n",
      "98     2018-04-20 18:51:09  Toronto, ON, Canada                 java      17\n",
      "131    2018-03-03 07:21:01  Toronto, ON, Canada                regex      18\n",
      "132    2018-03-13 21:08:01              Toronto                regex      18\n",
      "133    2018-03-26 14:27:40  Toronto, ON, Canada                regex      18\n",
      "134    2018-03-29 17:16:32  Toronto, ON, Canada                regex      18\n",
      "135    2018-04-20 15:15:14  Toronto, ON, Canada                regex      18\n",
      "148    2018-05-22 19:27:49              Toronto                 java      17\n",
      "159    2018-07-02 06:56:12  Toronto, ON, Canada                 html       2\n",
      "168    2018-06-29 16:15:12  Toronto, ON, Canada                 java      17\n",
      "171    2018-05-16 14:04:48  Toronto, ON, Canada                 ssis    2175\n",
      "181    2018-01-23 20:12:16  Toronto, ON, Canada                 html       2\n",
      "185    2018-03-17 18:51:13  Toronto, ON, Canada           javascript       3\n",
      "216    2018-03-28 16:59:55  Toronto, ON, Canada                 java      17\n",
      "217    2018-04-02 02:26:16  Toronto, ON, Canada                 java      17\n",
      "218    2018-04-03 19:43:49  Toronto, ON, Canada                 java      17\n",
      "219    2018-04-03 23:46:01  Toronto, ON, Canada                 java      17\n",
      "220    2018-04-04 22:56:03  Toronto, ON, Canada                 java      17\n",
      "221    2018-05-21 11:57:56          Toronto, ON                 java      17\n",
      "222    2018-04-10 20:39:45  Toronto, ON, Canada                 java      17\n",
      "223    2018-04-20 15:19:04              Toronto                 java      17\n",
      "224    2018-04-23 23:07:42  Toronto, ON, Canada                 java      17\n",
      "...                    ...                  ...                  ...     ...\n",
      "36226  2018-01-03 19:13:21  Toronto, ON, Canada            amazon-s3   11444\n",
      "36227  2018-02-08 02:29:14              Toronto            amazon-s3   11444\n",
      "36228  2018-03-29 07:02:40  Toronto, ON, Canada            histogram   11529\n",
      "36229  2018-05-29 19:37:57  Toronto, ON, Canada           filestream   11546\n",
      "36237  2018-01-14 04:39:24  Toronto, ON, Canada                nsurl    8503\n",
      "36246  2018-02-02 17:51:37  Toronto, ON, Canada              caching    1763\n",
      "36251  2018-05-24 18:29:04  Toronto, ON, Canada               xcode4   59704\n",
      "36254  2018-05-03 05:19:14  Toronto, ON, Canada  order-of-evaluation   61615\n",
      "36265  2018-04-24 00:53:54  Toronto, ON, Canada              symfony   57799\n",
      "36266  2018-05-12 16:30:00  Toronto, ON, Canada              java-io   59669\n",
      "36268  2018-07-03 12:36:25  Toronto, ON, Canada               xcode4   59704\n",
      "36283  2018-04-03 13:55:29  Toronto, ON, Canada              express   62301\n",
      "36288  2018-03-19 22:34:34  Toronto, ON, Canada             airprint   63495\n",
      "36314  2018-07-14 13:08:29  Toronto, ON, Canada           python-3.x   60010\n",
      "36315  2018-01-30 15:53:42  Toronto, ON, Canada        double-quotes   63342\n",
      "36317  2018-02-12 00:17:24  Toronto, ON, Canada     ternary-operator    8995\n",
      "36322  2018-04-25 16:18:09          Toronto, ON           python-3.x   60010\n",
      "36323  2018-06-27 14:39:07  Toronto, ON, Canada           python-3.x   60010\n",
      "36324  2018-06-08 04:56:17  Toronto, ON, Canada     runtimeexception   60102\n",
      "36337  2018-01-27 12:01:15  Toronto, ON, Canada               vuejs2  122377\n",
      "36338  2018-03-22 13:37:48  Toronto, ON, Canada             ggplotly  128325\n",
      "36339  2018-04-20 18:51:09  Toronto, ON, Canada                  oaf  128390\n",
      "36344  2018-04-18 18:14:21  Toronto, ON, Canada           postgresql     256\n",
      "36355  2018-01-15 15:49:01  Toronto, ON, Canada                  dom    1644\n",
      "36358  2018-05-07 04:45:03  Toronto, ON, Canada                 rest     364\n",
      "36369  2018-05-08 00:36:33  Toronto, ON, Canada           amazon-ec2   12375\n",
      "36377  2018-01-14 19:17:08  Toronto, ON, Canada           continuous    9850\n",
      "36382  2018-07-11 16:31:48  Toronto, ON, Canada     type-declaration   63756\n",
      "36387  2018-05-15 10:15:28  Toronto, ON, Canada               wizard   12047\n",
      "36398  2018-02-05 16:05:59  Toronto, ON, Canada   character-encoding   12658\n",
      "\n",
      "[7527 rows x 4 columns]\n",
      "            Date Location TagId\n",
      "           count    count count\n",
      "TagName                        \n",
      "javascript   274      274   274\n",
      "python       221      221   221\n",
      "android      179      179   179\n",
      "java         178      178   178\n",
      "php          161      161   161\n"
     ]
    }
   ],
   "source": [
    "# Select Toronto Post for each month in 2018 and see the 5 highest number of tags\n",
    "dfTD1 = df_Toronto.loc[:, ['Date', 'Location','TagName','TagId']]\n",
    "#dfTD1.describe()\n",
    "#print(dfTD1)\n",
    "dfJan = dfTD1.drop(dfTD1[((dfTD1['Date'] < '2018-01-01'))].index)\n",
    "print(dfJan)\n",
    "dfTD3 = dfJan.groupby(['TagName']).agg({'count'})\n",
    "#print(df2)\n",
    "#df2.describe()\n",
    "#list(df2)\n",
    "dfTD4 = dfTD3.sort_values(('TagId','count'),ascending=False)\n",
    "print(dfTD4.head())"
   ]
  },
  {
   "cell_type": "markdown",
   "metadata": {},
   "source": [
    "# Extra Lines"
   ]
  },
  {
   "cell_type": "code",
   "execution_count": 281,
   "metadata": {},
   "outputs": [
    {
     "name": "stdout",
     "output_type": "stream",
     "text": [
      "                                          TagId\n",
      "                                          count\n",
      "Location            TagName                    \n",
      "Toronto             actionscript-3            1\n",
      "                    air                       1\n",
      "                    c#                        1\n",
      "                    chromecast                1\n",
      "                    css                       1\n",
      "                    flex                      1\n",
      "                    ios                       2\n",
      "                    javascript                1\n",
      "                    mobile                    1\n",
      "                    mysql                     1\n",
      "                    passwords                 1\n",
      "                    php                       1\n",
      "                    scheduled-tasks           1\n",
      "                    silverlight               1\n",
      "                    silverlight-3.0           1\n",
      "                    username                  1\n",
      "Toronto, ON         tcp                       1\n",
      "Toronto, ON, Canada android                   6\n",
      "                    android-activity          2\n",
      "                    android-contacts          1\n",
      "                    android-emulator          1\n",
      "                    android-gradle            1\n",
      "                    android-listview          1\n",
      "                    android-studio            1\n",
      "                    android-widget            1\n",
      "                    angularjs                 1\n",
      "                    arrays                    1\n",
      "                    asp.net                   1\n",
      "                    callback                  1\n",
      "                    coldfusion                1\n",
      "...                                         ...\n",
      "                    hibernate                 2\n",
      "                    html                      1\n",
      "                    ibm-midrange              1\n",
      "                    java                      6\n",
      "                    javascript                4\n",
      "                    jquery                    2\n",
      "                    laravel                   1\n",
      "                    linux                     1\n",
      "                    maven                     1\n",
      "                    mime                      1\n",
      "                    ms-access                 1\n",
      "                    mysql                     1\n",
      "                    optimization              1\n",
      "                    php                       2\n",
      "                    programming-languages     1\n",
      "                    python                    1\n",
      "                    regex                     1\n",
      "                    relational-database       1\n",
      "                    ruby-datamapper           1\n",
      "                    sifr                      1\n",
      "                    smtp                      1\n",
      "                    sql                       5\n",
      "                    sqlite3                   1\n",
      "                    tabs                      1\n",
      "                    tsql                      1\n",
      "                    vb.net                    1\n",
      "                    yeoman                    1\n",
      "                    yeoman-generator          1\n",
      "                    zend-framework            1\n",
      "                    zend-mail                 1\n",
      "\n",
      "[76 rows x 1 columns]\n"
     ]
    }
   ],
   "source": [
    "df3 = df2.sort_index(level=1, axis=1, ascending=True, inplace=False, sort_remaining=True)\n",
    "print (df3)"
   ]
  },
  {
   "cell_type": "code",
   "execution_count": 258,
   "metadata": {},
   "outputs": [
    {
     "ename": "KeyError",
     "evalue": "'TagId.count'",
     "output_type": "error",
     "traceback": [
      "\u001b[1;31m---------------------------------------------------------------------------\u001b[0m",
      "\u001b[1;31mKeyError\u001b[0m                                  Traceback (most recent call last)",
      "\u001b[1;32mC:\\ProgramData\\Anaconda3\\lib\\site-packages\\pandas\\core\\indexes\\base.py\u001b[0m in \u001b[0;36mget_loc\u001b[1;34m(self, key, method, tolerance)\u001b[0m\n\u001b[0;32m   2524\u001b[0m             \u001b[1;32mtry\u001b[0m\u001b[1;33m:\u001b[0m\u001b[1;33m\u001b[0m\u001b[0m\n\u001b[1;32m-> 2525\u001b[1;33m                 \u001b[1;32mreturn\u001b[0m \u001b[0mself\u001b[0m\u001b[1;33m.\u001b[0m\u001b[0m_engine\u001b[0m\u001b[1;33m.\u001b[0m\u001b[0mget_loc\u001b[0m\u001b[1;33m(\u001b[0m\u001b[0mkey\u001b[0m\u001b[1;33m)\u001b[0m\u001b[1;33m\u001b[0m\u001b[0m\n\u001b[0m\u001b[0;32m   2526\u001b[0m             \u001b[1;32mexcept\u001b[0m \u001b[0mKeyError\u001b[0m\u001b[1;33m:\u001b[0m\u001b[1;33m\u001b[0m\u001b[0m\n",
      "\u001b[1;32mpandas/_libs/index.pyx\u001b[0m in \u001b[0;36mpandas._libs.index.IndexEngine.get_loc\u001b[1;34m()\u001b[0m\n",
      "\u001b[1;32mpandas/_libs/index.pyx\u001b[0m in \u001b[0;36mpandas._libs.index.IndexEngine.get_loc\u001b[1;34m()\u001b[0m\n",
      "\u001b[1;32mpandas/_libs/hashtable_class_helper.pxi\u001b[0m in \u001b[0;36mpandas._libs.hashtable.PyObjectHashTable.get_item\u001b[1;34m()\u001b[0m\n",
      "\u001b[1;32mpandas/_libs/hashtable_class_helper.pxi\u001b[0m in \u001b[0;36mpandas._libs.hashtable.PyObjectHashTable.get_item\u001b[1;34m()\u001b[0m\n",
      "\u001b[1;31mKeyError\u001b[0m: 'TagId.count'",
      "\nDuring handling of the above exception, another exception occurred:\n",
      "\u001b[1;31mKeyError\u001b[0m                                  Traceback (most recent call last)",
      "\u001b[1;32m<ipython-input-258-51abd637f929>\u001b[0m in \u001b[0;36m<module>\u001b[1;34m()\u001b[0m\n\u001b[1;32m----> 1\u001b[1;33m \u001b[0mdf4\u001b[0m \u001b[1;33m=\u001b[0m \u001b[0mdf2\u001b[0m\u001b[1;33m.\u001b[0m\u001b[0msort_values\u001b[0m\u001b[1;33m(\u001b[0m\u001b[1;34m'TagId.count'\u001b[0m\u001b[1;33m)\u001b[0m\u001b[1;33m\u001b[0m\u001b[0m\n\u001b[0m",
      "\u001b[1;32mC:\\ProgramData\\Anaconda3\\lib\\site-packages\\pandas\\core\\frame.py\u001b[0m in \u001b[0;36msort_values\u001b[1;34m(self, by, axis, ascending, inplace, kind, na_position)\u001b[0m\n\u001b[0;32m   3617\u001b[0m \u001b[1;33m\u001b[0m\u001b[0m\n\u001b[0;32m   3618\u001b[0m             \u001b[0mby\u001b[0m \u001b[1;33m=\u001b[0m \u001b[0mby\u001b[0m\u001b[1;33m[\u001b[0m\u001b[1;36m0\u001b[0m\u001b[1;33m]\u001b[0m\u001b[1;33m\u001b[0m\u001b[0m\n\u001b[1;32m-> 3619\u001b[1;33m             \u001b[0mk\u001b[0m \u001b[1;33m=\u001b[0m \u001b[0mself\u001b[0m\u001b[1;33m.\u001b[0m\u001b[0mxs\u001b[0m\u001b[1;33m(\u001b[0m\u001b[0mby\u001b[0m\u001b[1;33m,\u001b[0m \u001b[0maxis\u001b[0m\u001b[1;33m=\u001b[0m\u001b[0mother_axis\u001b[0m\u001b[1;33m)\u001b[0m\u001b[1;33m.\u001b[0m\u001b[0mvalues\u001b[0m\u001b[1;33m\u001b[0m\u001b[0m\n\u001b[0m\u001b[0;32m   3620\u001b[0m             \u001b[1;32mif\u001b[0m \u001b[0mk\u001b[0m\u001b[1;33m.\u001b[0m\u001b[0mndim\u001b[0m \u001b[1;33m==\u001b[0m \u001b[1;36m2\u001b[0m\u001b[1;33m:\u001b[0m\u001b[1;33m\u001b[0m\u001b[0m\n\u001b[0;32m   3621\u001b[0m \u001b[1;33m\u001b[0m\u001b[0m\n",
      "\u001b[1;32mC:\\ProgramData\\Anaconda3\\lib\\site-packages\\pandas\\core\\generic.py\u001b[0m in \u001b[0;36mxs\u001b[1;34m(self, key, axis, level, drop_level)\u001b[0m\n\u001b[0;32m   2333\u001b[0m \u001b[1;33m\u001b[0m\u001b[0m\n\u001b[0;32m   2334\u001b[0m         \u001b[1;32mif\u001b[0m \u001b[0maxis\u001b[0m \u001b[1;33m==\u001b[0m \u001b[1;36m1\u001b[0m\u001b[1;33m:\u001b[0m\u001b[1;33m\u001b[0m\u001b[0m\n\u001b[1;32m-> 2335\u001b[1;33m             \u001b[1;32mreturn\u001b[0m \u001b[0mself\u001b[0m\u001b[1;33m[\u001b[0m\u001b[0mkey\u001b[0m\u001b[1;33m]\u001b[0m\u001b[1;33m\u001b[0m\u001b[0m\n\u001b[0m\u001b[0;32m   2336\u001b[0m \u001b[1;33m\u001b[0m\u001b[0m\n\u001b[0;32m   2337\u001b[0m         \u001b[0mself\u001b[0m\u001b[1;33m.\u001b[0m\u001b[0m_consolidate_inplace\u001b[0m\u001b[1;33m(\u001b[0m\u001b[1;33m)\u001b[0m\u001b[1;33m\u001b[0m\u001b[0m\n",
      "\u001b[1;32mC:\\ProgramData\\Anaconda3\\lib\\site-packages\\pandas\\core\\frame.py\u001b[0m in \u001b[0;36m__getitem__\u001b[1;34m(self, key)\u001b[0m\n\u001b[0;32m   2135\u001b[0m             \u001b[1;32mreturn\u001b[0m \u001b[0mself\u001b[0m\u001b[1;33m.\u001b[0m\u001b[0m_getitem_frame\u001b[0m\u001b[1;33m(\u001b[0m\u001b[0mkey\u001b[0m\u001b[1;33m)\u001b[0m\u001b[1;33m\u001b[0m\u001b[0m\n\u001b[0;32m   2136\u001b[0m         \u001b[1;32melif\u001b[0m \u001b[0mis_mi_columns\u001b[0m\u001b[1;33m:\u001b[0m\u001b[1;33m\u001b[0m\u001b[0m\n\u001b[1;32m-> 2137\u001b[1;33m             \u001b[1;32mreturn\u001b[0m \u001b[0mself\u001b[0m\u001b[1;33m.\u001b[0m\u001b[0m_getitem_multilevel\u001b[0m\u001b[1;33m(\u001b[0m\u001b[0mkey\u001b[0m\u001b[1;33m)\u001b[0m\u001b[1;33m\u001b[0m\u001b[0m\n\u001b[0m\u001b[0;32m   2138\u001b[0m         \u001b[1;32melse\u001b[0m\u001b[1;33m:\u001b[0m\u001b[1;33m\u001b[0m\u001b[0m\n\u001b[0;32m   2139\u001b[0m             \u001b[1;32mreturn\u001b[0m \u001b[0mself\u001b[0m\u001b[1;33m.\u001b[0m\u001b[0m_getitem_column\u001b[0m\u001b[1;33m(\u001b[0m\u001b[0mkey\u001b[0m\u001b[1;33m)\u001b[0m\u001b[1;33m\u001b[0m\u001b[0m\n",
      "\u001b[1;32mC:\\ProgramData\\Anaconda3\\lib\\site-packages\\pandas\\core\\frame.py\u001b[0m in \u001b[0;36m_getitem_multilevel\u001b[1;34m(self, key)\u001b[0m\n\u001b[0;32m   2179\u001b[0m \u001b[1;33m\u001b[0m\u001b[0m\n\u001b[0;32m   2180\u001b[0m     \u001b[1;32mdef\u001b[0m \u001b[0m_getitem_multilevel\u001b[0m\u001b[1;33m(\u001b[0m\u001b[0mself\u001b[0m\u001b[1;33m,\u001b[0m \u001b[0mkey\u001b[0m\u001b[1;33m)\u001b[0m\u001b[1;33m:\u001b[0m\u001b[1;33m\u001b[0m\u001b[0m\n\u001b[1;32m-> 2181\u001b[1;33m         \u001b[0mloc\u001b[0m \u001b[1;33m=\u001b[0m \u001b[0mself\u001b[0m\u001b[1;33m.\u001b[0m\u001b[0mcolumns\u001b[0m\u001b[1;33m.\u001b[0m\u001b[0mget_loc\u001b[0m\u001b[1;33m(\u001b[0m\u001b[0mkey\u001b[0m\u001b[1;33m)\u001b[0m\u001b[1;33m\u001b[0m\u001b[0m\n\u001b[0m\u001b[0;32m   2182\u001b[0m         \u001b[1;32mif\u001b[0m \u001b[0misinstance\u001b[0m\u001b[1;33m(\u001b[0m\u001b[0mloc\u001b[0m\u001b[1;33m,\u001b[0m \u001b[1;33m(\u001b[0m\u001b[0mslice\u001b[0m\u001b[1;33m,\u001b[0m \u001b[0mSeries\u001b[0m\u001b[1;33m,\u001b[0m \u001b[0mnp\u001b[0m\u001b[1;33m.\u001b[0m\u001b[0mndarray\u001b[0m\u001b[1;33m,\u001b[0m \u001b[0mIndex\u001b[0m\u001b[1;33m)\u001b[0m\u001b[1;33m)\u001b[0m\u001b[1;33m:\u001b[0m\u001b[1;33m\u001b[0m\u001b[0m\n\u001b[0;32m   2183\u001b[0m             \u001b[0mnew_columns\u001b[0m \u001b[1;33m=\u001b[0m \u001b[0mself\u001b[0m\u001b[1;33m.\u001b[0m\u001b[0mcolumns\u001b[0m\u001b[1;33m[\u001b[0m\u001b[0mloc\u001b[0m\u001b[1;33m]\u001b[0m\u001b[1;33m\u001b[0m\u001b[0m\n",
      "\u001b[1;32mC:\\ProgramData\\Anaconda3\\lib\\site-packages\\pandas\\core\\indexes\\multi.py\u001b[0m in \u001b[0;36mget_loc\u001b[1;34m(self, key, method)\u001b[0m\n\u001b[0;32m   2070\u001b[0m \u001b[1;33m\u001b[0m\u001b[0m\n\u001b[0;32m   2071\u001b[0m         \u001b[1;32mif\u001b[0m \u001b[1;32mnot\u001b[0m \u001b[0misinstance\u001b[0m\u001b[1;33m(\u001b[0m\u001b[0mkey\u001b[0m\u001b[1;33m,\u001b[0m \u001b[0mtuple\u001b[0m\u001b[1;33m)\u001b[0m\u001b[1;33m:\u001b[0m\u001b[1;33m\u001b[0m\u001b[0m\n\u001b[1;32m-> 2072\u001b[1;33m             \u001b[0mloc\u001b[0m \u001b[1;33m=\u001b[0m \u001b[0mself\u001b[0m\u001b[1;33m.\u001b[0m\u001b[0m_get_level_indexer\u001b[0m\u001b[1;33m(\u001b[0m\u001b[0mkey\u001b[0m\u001b[1;33m,\u001b[0m \u001b[0mlevel\u001b[0m\u001b[1;33m=\u001b[0m\u001b[1;36m0\u001b[0m\u001b[1;33m)\u001b[0m\u001b[1;33m\u001b[0m\u001b[0m\n\u001b[0m\u001b[0;32m   2073\u001b[0m             \u001b[1;32mreturn\u001b[0m \u001b[0m_maybe_to_slice\u001b[0m\u001b[1;33m(\u001b[0m\u001b[0mloc\u001b[0m\u001b[1;33m)\u001b[0m\u001b[1;33m\u001b[0m\u001b[0m\n\u001b[0;32m   2074\u001b[0m \u001b[1;33m\u001b[0m\u001b[0m\n",
      "\u001b[1;32mC:\\ProgramData\\Anaconda3\\lib\\site-packages\\pandas\\core\\indexes\\multi.py\u001b[0m in \u001b[0;36m_get_level_indexer\u001b[1;34m(self, key, level, indexer)\u001b[0m\n\u001b[0;32m   2360\u001b[0m         \u001b[1;32melse\u001b[0m\u001b[1;33m:\u001b[0m\u001b[1;33m\u001b[0m\u001b[0m\n\u001b[0;32m   2361\u001b[0m \u001b[1;33m\u001b[0m\u001b[0m\n\u001b[1;32m-> 2362\u001b[1;33m             \u001b[0mloc\u001b[0m \u001b[1;33m=\u001b[0m \u001b[0mlevel_index\u001b[0m\u001b[1;33m.\u001b[0m\u001b[0mget_loc\u001b[0m\u001b[1;33m(\u001b[0m\u001b[0mkey\u001b[0m\u001b[1;33m)\u001b[0m\u001b[1;33m\u001b[0m\u001b[0m\n\u001b[0m\u001b[0;32m   2363\u001b[0m             \u001b[1;32mif\u001b[0m \u001b[0misinstance\u001b[0m\u001b[1;33m(\u001b[0m\u001b[0mloc\u001b[0m\u001b[1;33m,\u001b[0m \u001b[0mslice\u001b[0m\u001b[1;33m)\u001b[0m\u001b[1;33m:\u001b[0m\u001b[1;33m\u001b[0m\u001b[0m\n\u001b[0;32m   2364\u001b[0m                 \u001b[1;32mreturn\u001b[0m \u001b[0mloc\u001b[0m\u001b[1;33m\u001b[0m\u001b[0m\n",
      "\u001b[1;32mC:\\ProgramData\\Anaconda3\\lib\\site-packages\\pandas\\core\\indexes\\base.py\u001b[0m in \u001b[0;36mget_loc\u001b[1;34m(self, key, method, tolerance)\u001b[0m\n\u001b[0;32m   2525\u001b[0m                 \u001b[1;32mreturn\u001b[0m \u001b[0mself\u001b[0m\u001b[1;33m.\u001b[0m\u001b[0m_engine\u001b[0m\u001b[1;33m.\u001b[0m\u001b[0mget_loc\u001b[0m\u001b[1;33m(\u001b[0m\u001b[0mkey\u001b[0m\u001b[1;33m)\u001b[0m\u001b[1;33m\u001b[0m\u001b[0m\n\u001b[0;32m   2526\u001b[0m             \u001b[1;32mexcept\u001b[0m \u001b[0mKeyError\u001b[0m\u001b[1;33m:\u001b[0m\u001b[1;33m\u001b[0m\u001b[0m\n\u001b[1;32m-> 2527\u001b[1;33m                 \u001b[1;32mreturn\u001b[0m \u001b[0mself\u001b[0m\u001b[1;33m.\u001b[0m\u001b[0m_engine\u001b[0m\u001b[1;33m.\u001b[0m\u001b[0mget_loc\u001b[0m\u001b[1;33m(\u001b[0m\u001b[0mself\u001b[0m\u001b[1;33m.\u001b[0m\u001b[0m_maybe_cast_indexer\u001b[0m\u001b[1;33m(\u001b[0m\u001b[0mkey\u001b[0m\u001b[1;33m)\u001b[0m\u001b[1;33m)\u001b[0m\u001b[1;33m\u001b[0m\u001b[0m\n\u001b[0m\u001b[0;32m   2528\u001b[0m \u001b[1;33m\u001b[0m\u001b[0m\n\u001b[0;32m   2529\u001b[0m         \u001b[0mindexer\u001b[0m \u001b[1;33m=\u001b[0m \u001b[0mself\u001b[0m\u001b[1;33m.\u001b[0m\u001b[0mget_indexer\u001b[0m\u001b[1;33m(\u001b[0m\u001b[1;33m[\u001b[0m\u001b[0mkey\u001b[0m\u001b[1;33m]\u001b[0m\u001b[1;33m,\u001b[0m \u001b[0mmethod\u001b[0m\u001b[1;33m=\u001b[0m\u001b[0mmethod\u001b[0m\u001b[1;33m,\u001b[0m \u001b[0mtolerance\u001b[0m\u001b[1;33m=\u001b[0m\u001b[0mtolerance\u001b[0m\u001b[1;33m)\u001b[0m\u001b[1;33m\u001b[0m\u001b[0m\n",
      "\u001b[1;32mpandas/_libs/index.pyx\u001b[0m in \u001b[0;36mpandas._libs.index.IndexEngine.get_loc\u001b[1;34m()\u001b[0m\n",
      "\u001b[1;32mpandas/_libs/index.pyx\u001b[0m in \u001b[0;36mpandas._libs.index.IndexEngine.get_loc\u001b[1;34m()\u001b[0m\n",
      "\u001b[1;32mpandas/_libs/hashtable_class_helper.pxi\u001b[0m in \u001b[0;36mpandas._libs.hashtable.PyObjectHashTable.get_item\u001b[1;34m()\u001b[0m\n",
      "\u001b[1;32mpandas/_libs/hashtable_class_helper.pxi\u001b[0m in \u001b[0;36mpandas._libs.hashtable.PyObjectHashTable.get_item\u001b[1;34m()\u001b[0m\n",
      "\u001b[1;31mKeyError\u001b[0m: 'TagId.count'"
     ]
    }
   ],
   "source": [
    "df4 = df2.sort_values('TagId.count')"
   ]
  },
  {
   "cell_type": "code",
   "execution_count": 177,
   "metadata": {},
   "outputs": [
    {
     "name": "stdout",
     "output_type": "stream",
     "text": [
      "{nan, 'Ahvaz, Khuzestan, Iran', 'Cedar Park, TX, United States', 'Shenzhen, China', 'West, MS', 'Fargo, ND, United States', 'Stockport, United Kingdom', 'Cary, NC', 'Texas', 'Kerala, India', 'Bangor, ME', 'Ribbit!', 'Jaipur', 'Kharkiv, Ukraine', 'Chicago Land Area', 'Arnhem, Netherlands', 'Fort Lauderdale, FL', 'Perth, Western Australia, Australia', 'Overland Park, KS, United States', 'Shrewsbury, NJ', 'South Central Wisconsin', 'Efrat, Israel', 'Dubai - Forenede Arabiske Emirater', 'Los Gatos, CA, USA', 'Walla Walla, WA', 'Gold Coast QLD, Australia', 'Vrhnika, Slovenia', 'Foster City, CA', 'Washington, DC', 'Savannah, TX', 'Fishers, IN', 'Wales', 'Roanoke, VA, United States', 'Paris, Ile-de-France, France', 'California, US', 'Sheffield, UK', 'Kislovodsk, Ставропольский край, Россия', 'Sand Lake, MI, United States', 'Seattle', 'Tucson, AZ', 'Area 51', 'Naples, FL, United States', 'Târgu Mureș, Mureș County, Romania', 'London, Ontario Canada', 'Louisville, CO, United States', 'Wisconsin, United States', 'Guadalajara Mexico', 'Visaginas, Utenos apskritis, Lithuania', 'Overland Park, KS', 'Camborne, UK', 'Palakkad, India', 'Indiana, United States', 'Oschersleben, Germany', 'Jerusalem, Israel', 'Idaho Falls, ID', 'Idaho', 'Jersey City, NJ, United States', 'Belihul Oya, Sri Lanka', 'Navi Mumbai, India', 'Iraq', 'Sussex, United Kingdom', 'São Paulo - SP, Brasil', 'Pforzheim, Deutschland', 'Marlborough, MA, United States', 'Mordor', 'Catalonia', 'Rocky Mountain Empire', 'Tallinn, Estonia', 'Menlo Park, CA, United States', 'Novosibirsk, Russia', 'Pasadena', 'FL', 'Philadelphia, PA, USA', 'Harrisonburg, VA, United States', 'Europe', 'Madrid, Comunidad de Madrid, Spain', 'Snohomish, WA, United States', 'NJ, United States', '-lat 43 -lon -111', 'West Caldwell, NJ, United States', 'Curitiba - State of Paraná, Brazil', 'Lviv,  Ukraine', 'Naples, Italy', 'Europe?', 'Melbourne, Victoria, Australia', 'Durham, NC, United States', 'Budweis, Czech Republic', 'Barrie, Canada', 'Buffalo, NY', 'St Kilda, Australia', 'Montreal, Québec, Canada', 'Stockholm', 'Lawrence, KS', 'Birmingham, AL', 'São José Dos Campos, Brazil', 'Vigo, Spain', 'Bloomington, IN', 'Rouillé, France', 'Billingshurst, United Kingdom', 'Reston, VA, United States', 'Rasool Park, Lahore, Pakistan', 'Hanoi', 'Denton, TX', 'Cuenca, Ecuador', 'Danbury, CT', 'blankville', 'Lausanne, Switzerland', 'Novi Sad, Vojvodina', 'Ohio', 'Hamilton, New Zealand', 'Czech Republic', 'York', 'Jupiter', 'Normandy, France', 'Kobe, Japan', 'Springfield, MO, United States', 'Allahabad University, Allahabad, Uttar Pradesh, India', 'Grenoble, France', 'Tarnów, Polska', 'London / Singapore', 'Constance, Germany', 'Harrogate, England United Kingdom', 'Sanandaj, Kurdistan Province, Iran', 'Sherbrooke, QC, Canada', 'Michigan, USA', 'Cascavel, Brazil', 'Iasi, Romania', 'Ciudad Autónoma de Buenos Aires, Buenos Aires, Argentina', 'Norway', 'Paris, France.', 'Macclesfield, United Kingdom', 'Cynthiana, KY', 'Prime Meridian', 'Wiesbaden, Germany', 'United States', 'Fairborn, OH', 'İstanbul, Türkiye', 'Seoul, South Korea', 'Albany, CA', 'Wilhermsdorf, Germany', 'Swampscott, MA', \"Xi'an, 陕西省中国\", 'Republic of Texas', 'Liège, Belgium', 'Baltimore, MD, USA', 'CT, USA', 'North Rhine-Westphalia, Germany', '.', 'Connecticut, United States', 'Waco, TX', 'Warwickshire, United Kingdom', 'Brittany', 'Midwest US', 'Oulu, Finland', 'New Jersey (USA)', 'Antwerp, Belgium', 'Eskişehir, Türkiye', 'Des Moines, IA, United States', 'Trujillo, Peru', 'LHS 1140b', 'Campinas - State of São Paulo, Brazil', 'NC', 'North of Boston, MA', 'Manchester, New Hampshire', 'Montevideo, Montevideo Department, Uruguay', 'Türkiye', 'La Paz, Bolivia', 'West Virginia, USA', 'Staffordshire, United Kingdom', 'Bucharest', 'Portland, Oregon, U.S.', 'baroda,india', 'Rostov-na-Donu, Russia', 'Miami, FL', 'Newark, DE, United States', 'Falkensee, Germany', 'Winnipeg, MB, Canada', 'Alphen aan Den Rijn, The Netherlands', 'Nelson, Nelson, New Zealand', 'Munich', 'El Cerrito, CA', 'Winston-Salem, NC, United States', 'Toruń, Polska', 'North Carolina', 'Dundee, United Kingdom', 'Oldenburg, Deutschland', 'Santa Catarina, Brazil', 'Jakarta, Daerah Khusus Ibukota Jakarta, Indonesia', 'Bath, United Kingdom', 'Tomsk, Russia', 'san francisco', 'Oldenburg, Germany', 'Dhenkanal, Odisha, India', 'Hamden, CT', 'Carlisle, United Kingdom', 'Rajshahi, Rajshahi Division, Bangladesh', 'Drummondville, Canada', 'Rio de Janeiro - State of Rio de Janeiro, Brazil', 'Down to earth', 'Kiev, Украина', 'Detroit, Michigan', 'Rochester, NY', 'Las Vegas, NV, United States', 'Lviv, Lviv Oblast, Ukraine', 'Dublin, OH, United States', 'Tulsa, OK, United States', 'Tyrol, Austria', 'Stroudsburg, PA, United States', 'San Bruno, CA, United States', 'Tashkent, Узбекистан', 'Sheffield, England', 'Baton Rouge, LA', 'los angeles', 'Montreal, Quebec, Canada', 'Prestonpans, United Kingdom', 'Cowes, United Kingdom', 'Mountain Top, PA', 'Candia, NH USA', 'Barranquilla, Atlántico, Colombia', 'Huntington, WV', 'india,haryana', 'Kassel, Germany', 'Carrboro, NC', 'Vancouver, BC, Canada', 'Kozhikode, Kerala, India', 'San Salvador de Jujuy, Argentina', 'Charleston, SC', 'Florence, SC', 'Sao Paulo, Brazil', 'Rosenheim (Bavaria), Germany', 'Cologne, Germany', 'Gumi-si, Gyeongsangbuk-do, South Korea', 'chalon sur saone,france', 'England, Chesterfield', 'Montreal, QC, Canada', 'Pontypridd, United Kingdom', 'Gillespie, IL', 'Pocatello, ID, United States', 'New Delhi, Delhi, India', 'Surat', 'Leidschendam, Netherlands', 'Clichy, France', 'Maaseik, Belgium', 'Windsor, United Kingdom', 'Asheville, NC', 'Hullabalooza', 'Harbin, Heilongjiang, China', 'Twickenham, United Kingdom', 'Scottsdale, AZ, United States', 'Colorado', 'Flagstaff, AZ, United States', 'Cherry Gardens, Australia', 'Broomfield, CO, USA', 'Yoqneam, Northern, Israel', 'In your code', 'Portage, MI', 'Super Mario Land', 'Magog, Canada', 'Isfahan, Iran', 'Barcelona, Spain', 'Puebla, Mexico', 'Bhubaneswar', 'Huskvarna, Sweden', 'Spinea, VE, Italia', 'Jundiaí - São Paulo, Brazil', 'Edinburgh, United Kingdom', 'Poznan, Poland', 'Puck, Polska', 'Lima, Peru', 'The Netherlands', 'Dubai Internet City - Al Sufouh - Dubai - United Arab Emirates', 'Oita Prefecture, Japan', 'San Marcos, TX', 'Finland', 'Garlasco, Province of Pavia, Italy', 'Bellingham, WA', 'Arlington, TX, United States', 'Here and There', 'Winnipeg, Canada', 'Batavia, IL, United States', 'British Columbia, Canada', 'Stony Brook, New York United States', 'Treves, Germany', 'Manchester, UK', 'Netherlands / Spain', 'Denmark', 'Jodhpur, Rajasthan, India', 'Amersfoort, Netherlands', 'Gainesville, FL, United States', 'Upper Coomera, Australia', 'Paris', 'Johnstown, PA', 'Anchorage, Alaska', 'Singapore', 'White Bear Lake, MN, USA', 'Pretoria, South Africa', 'West Chester, OH, United States', 'Kirkland, WA', 'Melbourne VIC, Australia', 'Kennedy Space Center, FL', 'Former evil empire ;)', 'Johannesburg, Gauteng, South Africa', 'Braunau Am Inn, Austria', 'Cedar Falls, IA', 'Viña del Mar, Chile', 'Louvain-la-Neuve, Belgium', 'Spokane, WA, United States', 'Indiana', 'Los Angeles', 'Aalborg, Denmark', 'Varkana', 'Huntsville, AL, USA', 'Southern Illinois', 'Colchester, Canada', 'Cheshire, United Kingdom', '/home/okihara/', 'Helsingborg, Sweden', 'Brisbane, Queensland Australia', 'Phoenix, AZ', 'Lynnwood, WA', 'Huesca, Spain', 'U.S. Virgin Islands', 'Golden Valley, MN', 'Toronto, Ontario', 'Melbourne, Australia', 'Luton, United Kingdom', 'Paris, France & New York, United States', 'Chesham, United Kingdom', 'Cuneo, CN, Italia', 'Wellington, New Zealand', 'Corona, CA', 'Bangkok Thailand', 'Athens, Greee', 'Tabayesco, Lanzarote, Canary Islands', 'Dhaka , Bangladesh', 'Moscow, Russian Federation', 'Zürich, Switzerland', 'Redmond, WA', 'San Francisco Bay Area', 'Damascus, Syria', 'Viet Nam', 'Newport, United Kingdom', 'Basildon, United Kingdom', 'Pierre, SD', 'Walcott, ND', 'Juiz de Fora - State of Minas Gerais, Brazil', 'Melbourne', 'Bremen, Germany', 'Sol System', 'Centreville, VA', 'Ciudad Juarez, Chihuahua, Mexico', 'Oklahoma City, OK', 'Ciudad de Panama, Panama', 'Sarajevo, Bosnia and Herzegovina', 'Goiânia, State of Goiás, Brazil', 'Malmo, Sweden', 'South Carolina', 'Shelby Twp, MI', 'Corrientes, Argentina', 'Satellite Beach, FL', 'SoCal', 'Maricopa, AZ', 'Colorado Springs', 'Ontario, CA', 'Wrong place', 'Guildford, United Kingdom', 'Conshohocken, PA, United States', 'Souf London, United Kingdom', 'Tamil Nadu, India', 'Cartagena, Spain', 'Maine', 'Wellington, FL, United States', 'london', 'SW Scotland, United Kingdom', 'Porbandar, Gujarat, India', 'Quezon City, NCR, Philippines', 'Fort Wayne, IN', 'St. Louis, MO, United States', 'Stockholm, Stockholm Sweden', 'Hertford, United Kingdom', 'Sacramento, CA, United States', 'Cardiff, United Kingdom', 'Biel Bienne, Canton of Berne Switzerland', 'Adelaide, Australia', 'Санкт-Петербург, город Санкт-Петербург, Россия', 'Sydney, Australia', 'Gurgaon, India', 'Gurgaon', 'Blieskastel, Saarland, Germany', 'Palmerston North, New Zealand', 'Kenitra, Morocco', 'Holzwickede, Deutschland', 'Warszawa, Polska', 'Lincoln, MO', 'Jacksonville, FL', 'Lahore, Pakistan', 'Kent, England United Kingdom', 'Taiwan', 'Luzern, Schweiz', 'Darmstadt, Germany', 'Germany', 'Orange, CA', 'Kochi, Kerala, India', 'OH, USA', 'Rosenheim, Deutschland', 'Brisbane, Queensland, Australia', 'Milky Way', 'Valencia', 'Slovenia', 'New York, New York, United States', 'Hazleton, PA, United States', 'Western Australia', 'London and Devon, United Kingdom', 'Atlanta, GA.', 'Besancon, France', 'Yekaterinburg, Russia', 'World', 'Milwaukee, WI', 'Oak Ridge, TN, United States', 'Malaysia, Kuala Lumpur', 'Sweden / Switzerland', 'San Marino', 'Chiang Mai, Thailand', 'Not on a yacht... yet', '4096R/5CFC3B88974EE250', 'Annandale, VA', 'Jalandhar, Punjab, India', 'Sparta, MI, United States', 'Orlando, FL, United States', 'Chattanooga, TN', 'Ukrainian Village, Chicago, IL, United States', 'Kansas City, MO, USA', 'Vietnam', 'Wales, United Kingdom', 'Wallasey, United Kingdom', 'Egypt', 'Chesterfield, MO', 'Givat Zeev, Israel', 'Sudbury, Ontario, Canada', 'Farmingdale, NY', 'Solar System', 'Buenos Aires', 'Slovenia, EU', 'Anchorage, AK, United States', 'Lisbon, Portugal', 'New Delhi', 'Concepción del Uruguay, Entre Ríos, Argentina', 'Huntsville, AL, United States', 'Voronezh, Russia', 'East Brunswick, NJ', 'Baltimore, MD and New York, NY', 'Pasadena, CA, United States', 'Haverhill, MA', 'Bury St. Edmunds, Bury St Edmunds, United Kingdom', 'Portsmouth, VA', 'Cambridge, UK', 'Mugla, Turkey', 'Hounslow, United Kingdom', 'Louisville, KY', 'Berne, Switzerland', 'Florianópolis, State of Santa Catarina, Brazil', 'Kurunegala, North Western Province, Sri Lanka', 'Here', 'Vermont, USA', 'Lexington, Kentucky, United States', 'Tyngsborough, Massachusetts, United States', 'Waterloo, Canada', 'Reykjavík, Iceland', 'Orange County, CA, United States', 'Sheffield, United Kingdom', 'Kentucky', '10/10/1990', 'UTM Zone 10', 'Worthing, SD', 'Lindau, Switzerland', 'Millersville, MD, United States', 'Opheusden, Nederland', 'Massachusetts, United States', 'Nuremberg, Germany', 'Cambridge, England United Kingdom', 'Homagama, Sri Lanka', 'Fribourg, Switzerland', 'Herndon, VA', 'Boulder, CO, United States', 'Rasht, Gilan Province, Iran', 'Veracruz, México', 'Odense, Syddanmark, Denmark', 'Padova, PD, Italia', '47°36′N 122°10′W', 'Denver, CO, United States', 'Colombo, Sri Lanka', 'Wuppertal, Germany', 'São Paulo, SP, Brazil', 'Tampa, FL, United States', '/milky_way/solar_system/earth/europe/france', 'Utrecht, Netherlands', 'Rockville, MD, US', 'Mangalore, India', 'Kiel, Germany', 'UK', 'Brasília, DF', 'Birmingham, United Kingdom', 'Pennsylvania, United States', 'Urbana, IL', 'Hamburg', 'Greendale, WI', 'Malaysia', 'San Luis Obispo, CA', 'European Union', 'San Jose, California United States', 'Cuba', 'Timisoara, Timis, Romania', 'Leicester City, United Kingdom', 'bangalore', 'Watertown, MA', 'Akron, OH', 'Montreal, Canada', 'Makow Podhalanski, Poland', 'BW, Germany', 'İstanbul, Istanbul, Türkiye', 'Hamilton, ON, Canada', 'Sacramento, CA, USA', 'Kampala, Central Region, Uganda', 'Brasília, Brazil', 'Saarbrücken, Germany', 'Finland, Italy, China', 'Columbia, MD', 'Arizona, USA', 'Budker Institute of Nuclear Physics', 'Pakistan', 'Baghdad, Iraq', 'Russia, Krasnodar', 'San Francisco, CA, USA', 'Indore, India', 'Greece', 'Cork, Ireland', 'Rhinebeck, NY, USA', 'Vilnius, Lithuania', 'Gold Coast, Queensland, Australia', 'Kosice, Slovakia', 'Chandigarh', 'Amazonas, Brasilien', 'Fort Collins, CO', 'York, United Kingdom', 'Houston, TX', '39.1,-77.5', 'Up-voting away!', 'Pembroke Pines, FL, USA', 'Groveport, OH, United States', 'Coventry, United Kingdom', 'Nürnberg, Germany', 'St Louis, MO', 'Londrina - PR, Brasil', 'Saint-Jean-sur-Richelieu, QC, Canada', 'Clausthal, Germany', 'Maidenhead, United Kingdom', 'Urbana, IL, United States', 'Arlington VA', 'Monte Rio, CA, United States', 'Arrecife, Spain', 'Oklahoma, United States', 'Ottawa, ON, Canada', 'Amman, Jordan', 'Pensacola, FL', 'Udaipur, India', 'Virginia, United States', 'San Juan Capistrano, CA', 'California, United States', 'Curitiba, Brazil', 'Sylhet', 'Fleet, United Kingdom', 'Noida, Uttar Pradesh, India', 'France, 77', 'Gloucester, United Kingdom', 'Colombia', 'Denver, CO', 'Honduras', 'Halifax, Canada', 'Ekaterinburg, Russia', 'Washington, DC, USA', 'Warwick, United Kingdom', 'Rennes, Brittany, France', 'California', 'Bremerton, WA', 'New Jersey, USA', 'Napa, CA', 'Cochin, India', 'Lima, Perú', 'Colorado, USA', 'Tornado, WV', 'Lahore', 'Redmond, Washington, United States', 'Bielsko-Biala, Poland', 'Daventry, United Kingdom', 'Uppsala, Sweden', 'Parsippany-Troy Hills, NJ, United States', 'Rio de Janeiro, Brazil', 'Klijānu iela, Riga, Latvia', 'Rajkot, India', 'Cambridge/London, United Kingdom', 'Mountain View, CA, United States', 'Siberia', 'Montevideo, Uruguay', 'Kailua, Hawaii', 'Sunshine Coast, Queensland', 'Lound, United Kingdom', 'Nashua, NH, United States', 'World Citizen', 'Panama', 'Pittsburgh, PA, United States', 'Norrköping, Sweden', 'Coimbatore, India', 'Palo Ato, CA, United States', 'Nashville, Tennessee, United States', 'Baltimore, MD, United States', 'Durham, United Kingdom', 'St. Andrews, United Kingdom', 'Bothell, WA, United States', 'Jabalpur, India', 'Gujranwala, Punjab, Pakistan', 'rome', 'Addison, TX', 'Sophia-Antipolis', 'Gothenburg, NE', 'Plano, TX', 'Southern Germany', \"Ukraine, Kyivs'ka oblast\", 'Sheboygan Falls, WI', 'Ukraine. Dnipropetrovsk', 'MN, United States', 'Ernakulam , Kerala , india', 'Chandgad, India', 'Wilmington, North Carolina United States', 'San Luis Obispo, CA, United States', 'Wageningen, Nederland', 'Maple Grove, MN', 'Reims, France', 'Torino, TO, Italia', 'Port Richey, FL', 'Southeast Louisiana', 'State College, PA', 'San Carlos, CA', 'Taquaritinga - SP, Brasil', 'Sammamish, WA, US', 'Vilnius, Vilnius County, Liettua', 'Venice, CA', 'Midwest', 'Chicago, IL', 'Konstanz, Deutschland', 'Sabah, Malaysia', 'Argentina', 'Minneapolis, Minnesota, United States', 'Mondulkiri, Cambodia', 'Sunnyvale, CA, United States', 'Rapperswil-Jona, Switzerland', 'Eindhoven, Netherlands', 'Latvia', 'Edinburgh, Scotland', 'Cambridge, Reino Unido', 'US', 'Madison, MS', 'Templeton, CA, United States', 'Ventspils, Latvia', 'Manama, Bahrain', 'Miami, OK', 'Norwich, United Kingdom', 'Missoula, MT', 'Sol', 'London, England', 'Springfield, OH', 'Idukki, Kerala, India', '127.0.0.1', 'East Jakarta, East Jakarta City, Jakarta, Indonesia', 'Navi Mumbai, Maharashtra, India', 'Yuba City, CA, United States', 'Clifton Park Center, NY, United States', 'Poland', 'Bay Area, CA', 'Novara, Italy', 'Longueuil, QC, Canada', 'Nice, France', 'Bellevue, WA, United States', 'Rothenburg ob der Tauber, Germany', 'Boston', 'San Francisco, CA 94132, United States', 'Huddersfield, United Kingdom', 'Portland.', 'Saint Petersburg, Russia', 'Szczecin, Poland', 'Stockholm, Sweden', 'Malta', 'Kristiansand, Norge', 'Sala, Sweden', 'San Francisco Bay, California, United States', '~', 'Porto Alegre, Brazil', 'North Bethesda, MD', 'Merseyside, United Kingdom', 'Oklahoma City, OK, United States', 'Mersin, Turkey', 'Minas Gerais', 'Tartu, Tartu linn, Estonia', 'Riyadh, Saudi Arabia', 'Charlottesville, VA', 'St. Paul, MN, United States', 'New Hampshire, USA', 'Salisbury, United Kingdom', 'Cebu City, Central Visayas, Philippines', 'Munich, Bavaria', 'Charlotte, NC', 'Stockton-on-Tees, United Kingdom', 'Dhamtari, Chhattisgarh, India', 'McLean, VA, USA', 'Bowmanville, ON, Canada', 'Dransfeld, Germany', 'Vienna, austria', 'Toulouse, France', 'not sure where I am, but it looks zimbabweish', 'Dehradun, Uttarakhand, India', 'Fargo, ND', 'Nijmegen', 'Krakow', 'Skopje, Macedonia (FYROM)', 'Earth', 'Piracicaba - SP, Brasil', 'Oak Ridge, TN', 'Beachwood, OH', 'Italia', 'Texas A&M', 'Limbo', 'near Boston', 'Gallifrey', 'Estonia, Tallinn', 'Ljubljana, Slovenia', 'Torre Boldone, Italy', 'Pottstown, PA, United States', 'Aschaffenburg, Germany', 'Hyderabad, India', 'Cluj, Romania', 'Brighton, United Kingdom', 'Arlington, VA, United States', 'Warner Robins, GA, USA', 'Tunísia, Tunisie', 'Bangalore, Karnataka, Indië', 'The Kingdom of Arendelle', 'Skopje, Macedonia', 'Ahmedabad, Gujarat, India', 'La Crosse, WI', 'Deutschland', 'East TN', 'Krasnodar, Russia', 'Łomianki Dolne, Polska', 'Dublin, Irland', 'Nootdorp, Nederland', 'Tamilnadu, India', 'Köping, Sweden', 'Munich, Germany', 'Australia, QLD', 'New York City', 'Veenendaal, Nederland', 'Edinburgh, City of Edinburgh, UK', 'Coimbatore, Tamil Nadu, India', 'Hamburg, Hamburg, Germany', 'Brescia, Italy', 'Newport, RI', 'Cleveland Heights', 'Tartu, Estonia', 'Portland, Oregon, United States', 'Burke, VA', 'Tacoma, WA', 'Mumbai', 'Rio de Janeiro', 'Easter Island', 'Riva del Garda, Italy', 'Siena, SI, Tuscany, Italy', 'Grafendorf bei Hartberg, Austria', 'Surat, Gujarat, India', 'Linköping, Sweden', 'Monselice, Province of Padua, Italy', 'Gainesville, GA, USA', 'Madison, WI, United States', 'Skegness, United Kingdom', 'Pulaski, GA', 'Los Alamos, NM, United States', 'Lombardia, Italy', 'Newtown, PA', 'Angola', 'Ankara', 'Caracas, Venezuela', 'Hannover, Germany', 'Düsseldorf, Germany', 'Rancho Belago, CA', 'Canberra, Australia', 'Huntington Beach, CA', 'Bloomington, IN, United States', 'Wetteren, Belgium', 'Ancona, Italy', 'Irving, TX', '中国Beijing Shi', '6', 'Cluj Napoca, Romania', 'Bristol, United Kingdom', 'Seattle, WA, US', '...', 'Savage, MN', 'Nanjing,Jiangsu,China.', 'Woodinville, WA', '\"nothing is longer term than a short term solution\"', 'Pretoria, Gauteng, South Africa', 'Brussels, Belgie', 'Huntington, WV, United States', 'Carlisle, England United Kingdom', 'North Branford, CT', 'Naga City, Philippines', 'Rio De Janeiro, Brazil', 'Ontario', 'Brooklyn, New York, NY, United States', 'Queensland, Australia', 'South polar cap, Mars', 'Bergen, NJ, United States', 'Lakewood, NJ', 'Palo Alto, CA', 'Arizona', 'Taylors, SC', 'Cleveland, OH, United States', 'Irvine, CA', 'Barcelona, Catalunya', 'Orlando, Florida', 'Longview, WA', 'London', 'San Mateo, CA, United States', 'Bushey, United Kingdom', 'Stowmarket, United Kingdom', 'Vadodara, India', 'Chapel Hill, NC', 'Tokyo, Japan', 'Oakland, CA, United States', 'Detroit, MI', 'Raritan, NJ, United States', 'Burgess Hill, United Kingdom', 'Chania, Crete, Greece', 'Grafton, MA, United States', 'Saitama Prefecture, Japan', 'Heist-op-den-Berg, Belgium', 'Mount Airy, NC, United States', 'Karachi, Pakistan', 'Los Cocos, Cordoba, Argentina', 'Kharkov', 'Bonn, Deutschland', 'Autonomous City of Buenos Aires, Argentina', 'International', 'Regina, Canada', 'Zanzibar, Tanzania', 'New York Metro Area, USA', 'Albania', 'Würselen, Deutschland', 'Linz, Österreich', 'Växjö, Sweden', 'Aachen, North-Rhine-Westphalia, Germany', 'Chesapeake, VA', 'U.S.', 'Vamizi Island', 'Poznań, Polska', 'Gateshead, England, United Kingdom', 'Cold Spring, NY', 'East Europe', 'Gurugram, Haryana, India', 'Greenville, NC, United States', 'Kirkland, WA, USA', 'Truro, United Kingdom', 'Kentucky, United States', 'Gladstone, MO, United States', 'Issaquah, WA', 'South Africa', 'Waltrop, Germany', 'The Internet', 'Bath UK', 'Pune', 'Macedon, TE', 'Arlington, Virginia United States', 'Iran, Tehran, Tehran Province', 'Metz, France', 'Sherbrooke, Quebec, Canada', 'Nebraska', 'Castelldefels, Spain', 'West Bloomfield, MI', 'Ann Arbor, MI', 'Dublin, Dublin Ireland', 'Matej Bel University, Slovakia', 'Santo Domingo, Distrito Nacional, Dominican Republic', 'Tualatin, OR', 'Delaware', 'Sarnia, Canada', 'Missouri', 'Ankeny, IA, United States', 'Glencoe, MN', 'inside your git repo... git.ninja', 'Arkansas', 'Santa Barbara, CA', 'Terrebonne, Canada', 'Münster, Germany', 'Sceaux, France', 'everywhere', 'Fort Mill, SC', 'Huntsville, TX', 'Heverlee, Belgium', 'Belfast, Northern Ireland', 'Orange, California United States', 'Chapel Hill, NC, United States', 'Bonn', 'NorthEast, U.S.', 'Columbia, MO, United States', 'Silicon Valley, CA, United States', 'Aylesbury, United Kingdom', 'Dresden, Deutschland', 'España', 'Nigeria', 'Cebu, Philippines', 'Prague 1, Czech Republic', 'Folsom, CA', 'Hertfordshire, United Kingdom', 'Independence, MO', 'Knowledge, Brazil', 'Widnes, United Kingdom', 'Fairfield, OH, United States', 'Hyderabad', 'Portland, OR, United States', 'Galați, Romania', 'Praha, Česko', 'portland, Oregon, United States', 'Brighton, UK', 'Auckland', 'Schaumburg, Illinois United States', 'Ulverston, United Kingdom', 'Mirabel, Quebec, Canada', 'Gaborone, Botswana', 'Dornbirn, Austria', 'New Orleans, LA, United States', 'Indianapolis, IN, USA', 'Worcester, MA', 'Bengazi, Libya', 'Corpus Christi, TX', 'Trois-Rivières, QC Canada', 'Waterdown, Canada', 'Isfahan Province, Iran', 'Accra', 'Palatine, IL, United States', 'Aachen, Deutschland', 'Ferrières, Belgium', 'Internet', 'Kabul, Afghanistan', 'Paris, France', 'Prescott, AZ', '.ch', 'Asheville, NC, United States', 'Kazan, Республика Татарстан, Россия', 'Connecticut', 'iNDIA', 'Clifton, NJ', 'Seattle, WA USA', 'Santiago Del Estero, Argentina', 'Filderstadt, Germany', 'Middletown, CT', 'Southampton, UK', 'Fort Worth, Texas', 'Seattle, WA, USA', 'Manchester', 'Santander, Spain', 'Bolzano, Italy', 'Albury, Australia', 'Georgia', 'Bosnia and Herzegovina', 'Sacramento, CA', 'Suriname', 'Angleton, Texas, United States', 'Kevelaer, Deutschland', 'Montreal', 'Menlo Park, CA', 'Coconut Creek', 'Itabuna, Brazil', 'Peachtree City, GA, United States', 'Phillips, ME', 'Moskow', 'Missoula', 'Syracuse, New York United States', 'Framingham, MA', 'Cesena, Italy', 'Karlsruhe, Germany', 'Warner Robins, GA', 'Redmond, WA, USA', 'Shiraz, Iran', 'Meerut, Uttar Pradesh, India', 'Kafr Saqr, Egypt', 'Appleton, WI, United States', 'North Lanarkshire, United Kingdom', 'Silicon Valley, CA', 'Klagenfurt, Austria', 'Västerås, Sweden', 'Porbandar', 'Los Alamos', 'Cochin', 'Palma de Mallorca', 'SF Bay, CA, United States', 'Santa Monica, CA', 'Łódź, Poland', \"There are some things help can answer. For everything else, there's Stack Overflow.\", 'São Paulo, Brazil', 'Germany, NRW', 'San Jose, California', 'Tehran, Iran', 'East Coast USA', 'Russia, Moscow', 'Gdansk, Poland', 'Kraków, Luxoft', 'Ufa, Russia', 'FR', 'Fortaleza, Brazil', 'Junagadh, India', 'Mohali, India', 'Venezuela', 'Göppingen, Germany', 'Fredrikstad, Norway', 'Portsmouth, United Kingdom', 'Wauwatosa, WI', 'Frankfurt am Main, Deutschland', 'Regensburg, Deutschland', 'Eastern, KY', 'Michigan, U.S.', 'Ubehebe Crater, CA', 'Ahmedabad, India', 'Bern, Switzerland', 'Bend, OR', 'Oahu, Hawaii', 'Victoria, BC, Canada', 'Plattsmouth, NE, United States', 'Minsk', 'Fürth, Germany', 'Manassas, VA', 'Porto, Portugal', 'Biella, Italy', 'Viena, Austrija', 'pacific beach, ca', 'Vancouver, British Columbia Canada', 'NY and VT', 'Washington, DC, United States', 'Mahone Bay, NS, Canada', \"Perm', Russia\", 'Derby, United Kingdom', 'Chihuahua, Mexico', 'Cary, NC, United States', 'Scarborough, ME', 'Columbus, OH', 'India', 'Canton, Georgia, United States', 'Eindhoven, The Netherlands', 'Brooklyn, NY', 'North Bend, WA', 'Fort Collins, CO, United States', 'NY and NJ, United States', 'United Kingdom', 'Cape Town, Western Cape, South Africa', 'Ottawa, Ontario, Canada', 'Southern California', 'Rovereto, Italy', 'Richland, WA, United States', 'Leiden, Netherlands', 'Odder, Denmark', 'Ukraine', 'Linz, Austria', 'Germantown, MD', \"teh boosh, 'Straya\", 'Zwolle, Netherlands', 'NY', 'Colombia, Medellín - Antioquia', 'Princeton, NJ, United States', 'PA, United States', 'Ridgeland, MS', 'Moon', 'Falls Church, VA, United States', 'Madison, WI', 'Portland, Oregon', 'Bahía Blanca, Argentina', 'Leipzig, Germany', 'Belo Horizonte, Brazil', 'Crown Heights, Brooklyn, NY, United States', 'Maryville, TN, United States', 'Newcastle Upon Tyne, United Kingdom', 'Japan', 'Qom Province, Iran', 'there', 'www', 'Scotland', 'Nankin, Jiangsu, Chine', 'Saint Petersburg, FL', 'Switzerland / Croatia', 'İstanbul, Turkey', 'Bellingham, WA, United States', 'Chennai', 'Cheltenham, United Kingdom', 'Europe, somewhere', 'UAE/Jordan', 'Mountain View, California', 'Somerset West, South Africa', 'Dundee, Scotland (working remotely)', 'Łódź, Polska', 'Titisee-Neustadt, Germany', 'Emeryville, CA, United States', 'Recife - State of Pernambuco, Brazil', 'Mexico', 'Dallas, TX', 'Worcestershire', 'Saguenay', 'Belo Horizonte - MG, Brasil', 'Levittown, PA, United States', 'Elkhorn, WI', 'Dhaka,Bangladesh', 'Newcastle, Australia', 'Sousse, Gouvernorat de Sousse, Tunisie', 'Nagpur, India', 'Lebanon, NH', 'Philadelphia, PA', 'Remote (worldwide)', 'St. Louis, MO', 'Maidstone, UK', 'Rochester, NY, USA', 'Martinsburg, WV United States', 'India - Dallas', 'Carolinas', 'Antwerpen', 'Sunderland, United Kingdom', 'Pickering, Canada', 'Orlando, FL', 'Sao Paulo, Brasil', 'Kansas City, Missouri, United States', 'Russia, Saint-Petersburg', 'The Great Southern Land', 'Your screen', 'Ashburn, VA', 'Korsholm, Finland', 'Quakertown, PA, United States', 'Great Malvern, United Kingdom', 'Herriman, UT', 'Odessa, Ukraine', 'Chile', 'The Restaurant at the End of the Universe', 'Wilmette, IL', 'Montereale Valcellina (Italy)', 'Halifax, Nova Scotia Canada', 'NOT Birch Tree', 'Tennessee, United States', 'Belgium', 'A Coruña, Spain', 'Galway, Ireland', 'Kuala Lumpur, Malaysia', 'Ottawa, On', 'Kailua Kona, HI, United States', 'Thunder Bay, ON, Canada', 'Beirut, Beirut Governorate, Lebanon', 'Lansing, MI', 'Lititz, PA', 'Trinidad and Tobago', 'Pune--Vadodara--Ahemdabad--Mumbai, India', 'Farmington, UT, United States', 'Jodhpur, India', 'Pinneberg, Deutschland', 'Katowice, Polska', 'Crown Point, IN, United States', 'Hiagara', 'Madison, Wisconsin, United States', 'Wiltshire, United Kingdom', 'Reading, England United Kingdom', 'Greenville, IN', 'Espirito Santo, Brazil', 'Penang, Malaysia', 'Warsaw, Poland', 'Spring, Texas, United States', 'México', 'Buenos Aires, Ciudad Autónoma de Buenos Aires, Argentina', 'Taipei City, Taiwan', 'Shrewsbury, MA, United States', 'Solingen, Germany', 'Rimini, Italy', 'Champaign, IL', 'Kalmar, Sweden', 'Riga, Latvia', 'Bologna', 'Reston, VA', '4444', 'Cranfield, Wielka Brytania', 'Spring Valley, NY, USA', 'Toronto, ON', 'Jamaica', 'Dublin, OH, USA', 'Florida, USA', 'Illinois', 'MI', 'Heidelberg, Germany', 'South Holland, Netherlands', 'Colombia, Medellín, Antioquia, Colombia', 'Ha Noi, Viet Nam', 'Izmir, Turkey', 'Bozeman, MT, United States', 'Lewistown, PA', 'Šabac, Serbia', 'Randers, Denmark', 'ankara', 'Orange County, California United States', 'Kyiv city, Ukrajina', 'Jamshedpur, India', 'Phoenix, AZ, USA', 'Cincinnati, OH, United States', 'Louisiana', 'Londrina, Brazil', 'Krasnoyarsk, Krasnoyarsk Krai, Russia', 'Falls Church, VA', 'Orlando', 'Ubuntu', 'Northampton, United Kingdom', 'Ulm, Deutschland', 'Blisworth, United Kingdom', 'Calgary. Alberta, Canada', 'Virginia', 'Leicestershire, United Kingdom', 'Orem, UT', 'Barcelona, España', 'Blackburn, Australia', 'Traverse City, MI', 'Houston, TX, USA', 'Porsgrunn, Telemark, Norway', 'Carlsbad, CA, United States', 'Stamford, CT', 'Oslo', 'Breda, Netherlands', 'Herzogenaurach, Germany', 'Grand Rapids, MI', 'White Plains, NY', 'Klepp, Norway', 'Hawaii', 'Reno, NV', 'Thane, India', 'Yad Binyamin, Israel', 'Trondheim, Norway', 'Clermont-Ferrand, France', 'University Of Wollongong, Northfields Av - Stand F, Keiraville, New South Wales, Australia', 'Rogers, AR, United States', 'Russia, somewhere in Urals', 'Mánchester, Reino Unido', 'NYC', 'Zurich, Switzerland', 'Berlin', 'Leicester, United Kingdom', 'Malden, MA', 'Fresno, CA', 'Ngp', 'Royal Oak, MI', 'worldwide', 'Zwolle, The Netherlands', 'Mongolia, Ulan-Bator', 'Springfield, IL', 'Lexington, NC, United States', 'Hudson, MA', 'Maassluis, Netherlands', 'Hainaut, Belgium', 'Bilbao', 'Saint Louis, MO, USA', 'Perth, Australia', 'Bay Area, CA, United States', 'ℂ𝕙𝕚𝕔𝕒𝕘𝕠, 𝕀𝕃', 'San Diego, CA, United States', 'Boulder, CO', 'Roskilde, Denmark', 'Cambridge, MA, United States', 'Shandong, China', 'Martinez, CA, United States', 'Jordan', 'United Kingdom, Remote', 'Salt Lake City, UT', 'Leerdam, Netherlands', 'Washington,DC', 'College Park, MD, United States', 'Görlitz, SN, Deutschland', 'Palo Alto, CA, United States', 'Iran', 'Upper Silesia, Poland', 'Seville Grove, Western Australia, Australia', 'Cracow, Poland', 'North Olmsted, OH', 'New Hampshire, United States', 'Cincinnati, Ohio United States', 'Minsk, Minsk, Belarus', 'Marburg, Hesse, Germany', 'iran', 'Charlottetown, Canada', 'Whistler, Canada', 'Thessaloniki, Greece', 'Bayreuth', 'Out Of Space', 'fool-dev +4', 'Tunisia', 'District of Columbia', 'Hesse, Germany', 'Cluj-Napoca, Județul Cluj, România', 'Uberlândia, State of Minas Gerais, Brazil', 'VA', 'Las Vegas NV', 'Northampton, MA', 'HJSI', 'Islamabad, Pakistan', 'Thrissur, India', 'North Carolina, United States', 'Iran, Tabriz', 'Polska', 'San Antonio, TX', 'Tangier, Morocco', 'Guimaraes, Portugal', 'Loveland, CO', 'Heidelberg, Deutschland', 'Plymouth, MI', 'Freiburg, Germany', 'On the stack', 'on the server farm', 'Sonora, CA', 'George Town, Cayman Islands', 'Exeter, United Kingdom', \"'Murica\", 'Rockville, MD, United States', 'Riverton, UT', 'Rome, Metropolitan City of Rome, Italy', 'Purdue University, IN', 'Scottsdale, AZ', 'Azerbaijan', 'Norfolk, VA', 'computer room', 'Fair Oaks, CA, United States', 'Germany, Sweden, Freiburg, Linköping', 'Fairbanks, AK', 'Texas, United States', 'São Paulo, SP, Brasil', 'Peru', 'Aligarh, Uttar Pradesh, India', 'San Pablo, CA', 'George Town, Penang, Malaysia', 'Cape Town, South Africa', 'Brasil/España', 'Athens, Central Athens, Greece', 'Iloilo City, Western Visayas, Philippines', 'Hamilton, Canada', 'The Grid', 'Zaragoza, Spain', 'Mars', 'South Korea', 'α 19h 30m 43.286s δ +27° 57′ 34.84″', 'Istanbul, Turkey', 'Joao Pessoa, Brazil', 'Tempe, AZ', 'Webster, NY', 'Frösön, Sweden', 'Georgetown, Ontario Canada', 'Dhaka, Bangladesh', 'Moldova', '69117 Heidelberg, Germany', 'Glasgow, UK', 'Albuquerque, NM', 'Gibraltar', 'Miami, FL, United States', 'Akron, OH, United States', 'Lakeland, FL, United States', 'Sarasota, FL, United States', 'San Jose, CA', 'Sahuarita, AZ', 'PA', 'Gresham, OR', 'Cyberspace', \"L'viv, Lviv Oblast Ukraine\", 'Bangalore, Karnataka, India', 'Dhaka', 'Land O Lakes, FL', 'Burlingame, CA', 'Alburtis, PA', 'Cottingham, United Kingdom', 'Nagpur, Maharashtra, India', 'Baththaramulla, Western Province, Sri Lanka', 'Vancouver, Canada', 'Worcester, United Kingdom', 'Midlothian, VA, USA', 'London, England, United Kingdom', 'IRI', 'Spain, Barcelona', 'Awkward, New Zealand', 'Long Island City, Queens, NY, USA', 'Maryland, United States', 'Amsterdam, Netherlands', 'Thiruvananthapuram, India', 'Lebring, Austria', 'Waterloo, ON, Canada', 'Severodvinsk, Arkhangelsk Oblast, Russia', 'St.Petersburg, Russia', 'Indore', 'Warminster, PA', 'Portland, OR', 'Christiansburg, VA', 'Beograd', 'Zürich, Schweiz', 'Calicut, Kerala, India', 'Dominican Republic', 'Marietta, GA', 'Allahabad, India', 'Wakefield, United Kingdom', 'MA', 'Chicago, IL, United States', 'Indianapolis, IN', 'Irvine, CA, United States', 'Oakville, Canada', '대한민국 Daejeon', 'Bishkek, Kyrgyzstan', 'Brasil/France', 'Stockhom, Sweden', 'Athens, GA', 'C:\\\\WINDOWS\\\\', 'Bordeaux, France', 'AK', 'Madison, CT, United States', 'Groningen, Nederland', 'Yaounde, Cameroon', 'Pennsylvania, USA', 'Kent, WA, United States', 'Namek', 'Genoa, Italy', 'Rochester, New York, United States', 'Grand Forks, ND, United States', 'Northern Ireland', 'Liverpool', 'Bydgoszcz, Poland', 'North Carolina, USA', 'Rio de Janeiro - RJ, Brasil', 'Code World', 'East Kilbride, Glasgow, UK', 'Svitavka, Czech Republic', 'Baltimore, Maryland', 'Kansas City, MO, United States', 'Kazan, Russia', 'Sydneattle', 'Khabarovsk, Хабаровский край, Россия', 'Arlington, MA', 'Garrison, NY', 'Bucharest, Romania', 'Montpelier, VT, USA', 'Arnsberg, Germany', 'Bangkok, Bangkok, Thailand', 'Bavaria, Germany', 'Zurich', 'Kashan, Isfahan Province, Iran', 'Gießen, Deutschland', 'Dripping Springs, TX', 'Nashotah, WI', 'Hong Kong, Hong Kong-China', 'New England', 'Northern California, United States', 'Vanda, Finland', 'Lahore, Punjab, Pakistan', 'Basel', 'Bangalore', 'Montréal, QC, Canada', 'Rivne, Ukraine', 'Bern, Schweiz', 'Hortolândia, SP, Brasil', 'Nelluvai, Thrissur, Kerala, India', 'Salem, OR', 'Tonbridge, England, United Kingdom', 'Ceske Budejovice, Czechia', 'Richmond, BC, Canada', 'Madrid, Spain', 'Mooresville, NC, United States', 'Russia, Vladivostok', 'Debrecen, Hungary', 'Bozeman, MT', 'London, Canada', 'Graz, Austria', 'Brookline, MA', 'Philadelphia, Pennsylvania, United States', 'Riegel am Kaiserstuhl, Germany', 'LTM, Czech Republic', 'Slovakia', 'Florence, Italy', \"Simferopol', Ukraine\", 'LaLaLand', 'St. Cloud, Minnesota, USA', 'Duckburg', 'Hradec Králové, Czech Republic', 'Ho Chi Minh City, Ho Chi Minh, Vietnam', 'Mauldin, SC, United States', 'Fullerton, CA', 'Farmington Hills, MI, USA', 'Queen Street, Auckland, New Zealand', 'Surat, India', 'Tunis, Tunisia', 'Chichester, UK', 'New York', 'Oceanside, CA, United States', 'Buena, NJ', 'Londres, Royaume-Uni', 'San Francisco', 'Duchy of Grand Fenwick', 'Fredericksburg, VA, United States', 'Belmont, MA', 'Apple Valley, MN, United States', 'Windsor, ON, Canada', 'Sevilla, España', 'Waconia, MN', 'Kent, United Kingdom', 'Chicago', 'El Paso, TX, United States', 'Knoxville, TN, USA', 'A logging camp in the Great North Woods', 'Herzliya, Israel', 'Delhi,India', 'Vermont', 'New York City, USA', 'San Francisco, United States', 'Celje, Slovenia', 'Enderby, BC, Canada', 'Delhi, New Delhi, India', 'Herent, Belgium', 'Minhang, China', 'Sarasota, FL', 'Birkenhead, United Kingdom', 'Snellville, GA', 'Århus, Denmark', 'Fort Worth, TX', 'Europe, GMT+1', 'Pittsburgh', 'Austin, TX, USA', 'Žilina, Slovakia', 'Braunschweig, Germany', 'Sacramento-ish, CA', 'Minneapolis, Minnesota United States', 'Oslo, Norway', 'Alameda, CA', 'NEPA', 'South Bend, IN', 'Venice, California', 'Algiers, Algeria', 'Toronto, Canada', 'Carlsbad, CA, USA', 'Springfield, VA, United States', 'Cleveland, Ohio United States', 'Athens, Greece', 'Oakland, CA', 'Cachoeirinha - RS, Brasil', 'Hoboken, NJ', 'Natal, Brazil', 'War Room, Sweden', 'Rio de Janeiro, Brasil', 'Detroit', 'Mashhad, Iran', 'Gdańsk, Poland', 'Lagos, Nigeria', 'Stuttgart, Deutschland', 'Steenwijk, Netherlands', 'Santa Maria, RS, Brasil', 'Bloomfield, New Jersey United States', 'Charlottesville, VA United States', 'Kent, England', 'Midlands, United Kingdom', 'Longmont, CO', 'Stord, Norway', 'Kelowna, BC, Canada', 'Salt Lake, UT', 'Kuala Lumpur Malaysia', 'Bay', 'Mumbai, India (Currently in Kuwait)', 'That nice patch in the middle of Europe', 'Tromsø, Norway', 'Pacific Northwest', 'Frankfurt, Germany', 'Cambridge, ID', 'Oklahoma', 'Antrim, United Kingdom', 'Hamburg, Deutschland', 'Cheyenne, WY, United States', 'Corvallis, OR', 'Santo Domingo, Distrito Nacional, República Dominicana', 'Sylvania, Ohio, United States', 'Pisa, Italy', 'Markham, Canada', '@Work', 'Santa Rosa, CA, United States', 'Mangaluru, Karnataka, India', 'Tabriz, East Azerbaijan Province, Iran', 'Yorkshire', 'Stroud, UK', 'Dresden, Saxony, Germany', 'Katy, TX', 'Stafford, United Kingdom', 'Sky', 'Flower Mound, Texas', 'Canton, OH, United States', 'San Francisco Bay Area, California', 'Weikersheim, Germany', 'Nagoya-shi, Japan', 'New Lenox, IL', 'Annapolis, MD, United States', 'Kanto, Japan', 'Allentown, Pennsylvania, United States', 'In a cable', 'Nagoya, Aichi Prefecture, Japan', 'Rīga, Rīgas pilsēta, Latvija', 'Düsseldorf', 'Tullamore, Ireland', 'Houghton, MI', 'Yazd, Iran', 'Mountain View ', 'Clarks Summit, PA', 'Medan, Indonesia', 'Mumbai, Maharashtra, India', 'Rapid City, SD', 'Karlstad, Sweden', 'Pilsen, Czech Republic', 'West Virginia', 'Meadville, PA', 'Vila do Conde, Portugal', 'Ghent, Belgium', 'West-Vlaanderen, Belgium', 'Kelowna, Canada', 'Okinawa, Japan', 'Hampton Roads, VA USA', 'Ciudad de México, México', 'Sylvania, OH', 'Tashkent, Uzbekistan', 'Des Moines, IA', 'Canada / Austria / Ukraine', 'London, ON, Canada', 'Bengaluru, Karnataka, India', 'Windsor, CA, United States', 'Tirana, Albania', 'Iran, Tehran', 'Belfast', 'EU', 'Pennsylvania', 'San Francisco Bay Area, CA, USA', 'Hollow Creek, Belgium', 'Hyogo Prefecture, Japan', 'Can be any where as move alot', 'Charlotte, NC, USA', 'Nijmegen, Netherlands', 'The Kingdom of the Netherlands', 'Washington, United States', 'Tyler, TX', 'Longmont, CO, United States', 'Manitoba', 'Quebec, Canada', 'Hangzhou, Zhejiang, China', 'US, EDT', 'Kiel, Schleswig-Holstein Germany', 'Vancouver, BC', 'Evanston, IL', 'ᎬᎪᏒᏆh', 'Reykjavik, Iceland', 'Tbilisi, Georgia', 'Illinois, United States', 'Microsoft Office 1997', 'Azerbaijan,Baku', 'Scotland, United Kingdom', 'Israel', 'Roma, RM, Italia', 'Santa Barbara, California, United States', 'San Francisco, California', 'Örebro, Sweden', 'Goleta, CA', 'Den Haag, Nederland', 'Kingston, Canada', 'Arizona, United States', 'Asker, Norway', '$HOME', 'Lexington, South Carolina', 'Albuquerque, NM, USA', 'McCordsville, IN', 'Tehran - Islamic Republic of Iran', 'Ravenna', 'Oshkosh, WI', 'Washington', 'Olathe, KS, United States', 'Erldunda, Australia', 'Lancaster, United Kingdom', 'Enterprise, AL', 'Aurora, CO, United States', 'Heriot-watt University, United Kingdom', 'Hungary', 'AUT', 'Moshav Carmel, Har Hevron, Israel', 'Southern California, CA, USA', 'Abilene, TX', 'Ames, IA', 'Boston, MA', 'Lancaster, CA', 'at home?', 'Maastricht, Netherlands', 'Carcarañá, Argentina', 'Oldenburg', 'Issaquah, WA, United States', 'Caribou, ME', 'Earth, USA', 'Novi Sad, Serbia', 'Leeuwarden, Netherlands', 'Belfast, United Kingdom', 'Copenhagen, Denmark', 'Indiranagar', 'Grantham, England, United Kingdom', 'Italy', 'Turkey', 'Sykkylven, Norway', 'Conway, SC, United States', 'New Port Richey, FL, United States', 'Hamilton, MS, United States', 'Brest, France', 'Wroclaw, Poland', 'Moreno Valley, CA', 'St Louis Park, MN, United States', 'Idaho, United States', '~ $', 'Katsrin, Israel', 'Your computer', 'Luxembourg', 'Tübingen, Deutschland', 'Miri, Malaysia', 'Erie, PA', 'Leeds, AL', 'Bolivia', 'Gothenburg, Sweden', 'Juiz de Fora, Brazil', 'Slovenska Bistrica, Slovenia', 'Gainesville, FL', 'Mechelen, Belgium', 'Aalst, Belgium', 'Lugano, Svizzera', 'Calgary, Canada', 'Sallanches, France', 'Vyapar Vihar Road, Vinoba Nagar, Bilaspur, Chhattisgarh, India', 'Columbia, TN', 'Weimar, Germany', 'Watford, United Kingdom', 'Tajikistan', 'Warren, MI', 'Ho Chi Minh City, Vietnam', 'Trivandrum, Kerala, India', '993, Aluviharaya, Matale, Sri Lanka', 'Pawtucket, RI', 'Gandhinagar, Gujarat, India', 'Russia, Chelyabinsk', 'München', 'Celina, TX', 'Troy, MI', 'Southeast', 'Cologne, Deutschland', 'Granada, España', 'Kyiv, Україна', 'Preston, United Kingdom', 'Brazil', 'Thibodaux, LA', 'Mohali, Punjab, India', 'Tallinn, Tallinna linn, Eesti', 'Pryor, OK', 'Hanoi, Vietnam', 'Javascript Island', 'Fairford, United Kingdom', 'Kraków, Polska', 'Saskatoon, Canada', 'Carlisle, PA, United States', 'Geosynchronous orbit', 'Fayetteville, North Carolina United States', 'İzmir, Türkiye', 'North America', 'Mississippi', 'central europe', 'Gliwice, Poland', 'Havana, Cuba', 'Chicago, Illinois United States', 'NYC Area', 'star dust', 'Kluisbergen, Belgium', 'Derbyshire, UK', 'Detroit, MI, United States', 'Edmond, OK', 'Omaha, NE', 'Helmond, The Netherlands', 'Cleveland', 'Charleston, SC, United States', 'Worthing, United Kingdom', 'Ulaanbaatar, Mongolia', 'Long Beach, CA', 'Gand, Belgio', 'Ahmadabad, India', 'Richardson, TX', 'Mississauga, Canada', 'Cambridge, England', 'Puyallup, WA', 'Ogden, UT', 'Highlands Ranch, CO, United States', 'Ballston Spa, NY', 'Princeton, NJ', 'Lebanon', 'Krakow, Poland', 'Pleasant Valley, NY', 'San Diego, CA or Daytona Beach, FL', 'Wilmington, NC', 'Springfield, OR', 'Thunder Bay, Canada', 'Guelph, Canada', 'Jhang,Pakistan', 'Sakarya, Türkiye', 'Seattle, WA, United States', 'Tunbridge Wells, United Kingdom', 'Strasbourg', 'Ouray, CO, United States', 'Salzburg, Austria', 'Maryland', 'Shawinigan, Canada', 'Dallas, TX, United States', 'Hobart, Australia', 'Ukraina', 'Teltow, Germany', 'Series of tubes.', \"Dnipropetrovs'k, Ukraine\", 'Hong Kong Island, Hong Kong', 'Swansea, United Kingdom', 'Richmond, VA', 'Kortrijk, Belgium', 'Central Athens, Greece', 'Wilmington, MA', 'Costa Rica', 'Diamond Bar, CA, United States', 'Sydney', \"seeing what's what\", 'Lake Mary, FL, United States', 'Johannesburg, South Africa', 'Bijeljina, Bosnia and Herzegovina', 'Alameda, CA, United States', 'Charleston, South Carolina', 'Eastern Europe', 'Newcastle, NSW', 'Netherlands / Belgium', 'Leonberg, Germany', 'Bochum, Germany', 'Houston, Texas, United States', 'Bournemouth, Dorset', 'Lisbon, Lisbon Portugal', 'Cali - Valle del Cauca, Colombia', 'Gdańsk, Polska', 'Atlanta, Georgia, United States', 'Olathe, KS', 'Astana, Kazakhstan', 'Wheaton, IL, United States', 'Hanover, Germany', 'Pathirappally, Poomkavu, Alappuzha, Kerala, India', 'Cheltenham, UK', 'KC', 'Multan, Punjab, Pakistan', 'Washington, District of Columbia United States', 'Rochester Hills, MI', 'Rennes, France', 'Dubai - United Arab Emirates', 'Albemarle, North Carolina, United States', 'Knoxville, TN, United States', \"Dnipropetrovs'k, Dnipropetrovsk Oblast, Ukraine\", 'Brussels', 'Victoria, Canada', 'Lugano, Switzerland', 'Brisbane, Australia', 'Sydney NSW, Australia', 'Tehran, Tehran Province, Iran', 'Bristol, UK', 'Esbo, Finland', 'Chicago, USA', 'Murray, UT, United States', 'Metro Boston', 'Hendersonville, NC', 'California / Oregon', 'Los Angeles, CA, United States', 'Middle East', 'Southampton, United Kingdom', 'Tanur, Kerala, India', 'North Carolina, US', 'Choctaw, OK', 'Spaarndam, Netherlands', 'Auckland, Auckland, New Zealand', 'Kolkata, India', 'Wien, Österreich', 'Metzingen, Germany', 'Taranto, Italy', 'Quito, Ecuador', 'Buenos Aires, Argentina', 'Horsham, England United Kingdom', 'Waltham, MA, United States', 'N 39.26.30 W 76.16.01 Edgewood MD', 'Genk, Belgium', 'Phuket, Thailand', 'Leipzig, Saxony Germany', 'Hove, United Kingdom', 'Praha, Česká republika', 'Bolivar, MO', 'LE City - Germany', 'Minecraft Road, Talaguppa, Karnataka, India', 'Lafayette, IN', 'At work', 'Siegen, Germany', 'London, San Francisco', 'Dallas, Texas United States', 'Jakarta, Indonesia', 'CA', 'Budapest, Hungary', 'Göttingen, Germany', 'Paraguay', 'Oxford, UK', 'India, Hyd', 'Technology Centre of The World', 'Newcastle, UK', 'Indore, Madhya Pradesh, India', 'Bothell, WA', 'Delft, Netherlands', 'Kuwait City, Al Asimah, Kuwait', 'Barranquilla, Colombia', 'San Francisco Bay Area, CA, United States', 'Belleville, MI, USA', 'Poznań, Poland', 'St Albans, UK', 'IRAN-Karaj', 'Cochin, Kerala, India', 'Tabriz, East Azerbaijan, Iran', 'Monkey Island, somewhere in the caribbean', 'Hong Kong', 'Paris, FR', 'Bhopal, Madhya Pradesh, India', 'Guatemala City, Guatemala', 'Oderzo, TV, Italia', 'HCMC, Vietnam', 'Phoenix AZ', 'Umeå, Sweden', 'Ramat Gan, Israel', 'Murcia, Spain', 'Saline, MI, United States', 'Somerville, MA', 'Monterey, CA', 'socal', 'Košice, Slovensko', 'Hell', 'Brasov, Romania', 'Fife, United Kingdom', 'El Salvador', 'Asia', 'USAF Research Laboratory (WPAFB)', 'Dehradun, India', '.ca', 'Managua, Nicaragua', 'Nova Scotia, Canada', 'Sint-Truiden, België', 'Oufa, Russia', 'Hod HaSharon, Israel', 'Pretzeltown, USA', 'Patzcuaro, Mexico', 'Alaska', 'Somewhere', 'Nagercoil, India', 'Salt Lake City, UT, USA', 'Rochester, NY, United States', 'Netherlands', 'U.K.', 'Stuttgart, Germany', 'Frankfurt Am Main, Germany', 'Ukraine, Kiev', 'Rock Hill, SC, United States', 'Ypres, Belgium', 'Berkshire United Kingdom', 'Doylestown, PA', 'I.R. Iran', 'Aurangabad india', 'Republic of the Union of Myanmar', 'Milano, MI, Italia', 'between Venus and Mars', 'Kingston, St. Andrew Parish, Jamaica', 'Odessa', 'Headcorn, England, United Kingdom', 'Maui, HI', 'Truckee, CA', 'Dublin, Ireland', 'Perth, Western Australia', 'Sankt-Peterburg, город Санкт-Петербург, Россия', 'None, Italy', 'Australia', 'Alpharetta, GA', 'Redmond, WA, United States', 'Northern Ireland, United Kingdom', 'Charlottesville, VA, United States', 'Mumbai, India', 'Thousand Oaks, CA', 'Potsdam', 'Washington D. C.', 'Campbell River, Canada', 'Seville, Spain', 'Madonna, België', 'Simi Valley, CA', 'Mexico, City', 'Lviv, Ukraine', 'Copenhagen', 'Grindsted, Denmark', 'Norristown, PA', 'Delhi', 'Santa Rosa, CA', 'Hull, UK', 'England', 'Rome, GA', 'Puerto Rico', 'Gold Coast', 'Québec, Canada', 'Basingstoke, United Kingdom', 'Bellevue, WA', 'San Tan Valley, AZ, United States', 'Tamil Nadu, Chennai, India', 'Bogotá, Colombia', 'Nagoya, Japan', 'Crystal River, Florida United States', 'Northern Europe', 'Caerphilly', 'Boulder, CO, USA', 'Kyiv, Ukraine', 'Russia', 'Baltimore, Maryland United States', 'Manila, Philippines', 'The Hague, Netherlands', 'Turin, Italy', 'Christchurch, New Zealand', 'Luleå, Sweden', 'Granada, Spain', 'Stoke-on-Trent, United Kingdom', 'Aachen, Germany', 'Lewisville, NC', 'Montpellier, France', 'Dang Kathmandu, Nepal', 'New Mexico', 'Nashville, TN', 'Atlanta, GA, United States', 'Plantasia', 'Lithuania', 'San Francisco, CA, United States', 'West Coast, USA', 'Groningen, Netherlands', 'Fort Myers, FL', 'Tübingen, Germany', 'Newcastle, United Kingdom', 'Dublin, Republic of Ireland', 'Queensland', 'USA', 'Hubli, India', 'The Earth', 'Golestan, Iran', 'Hamilton, United Kingdom', 'Fiji', 'Bangkok, Thailand', 'Kansas City', 'Los Angeles, CA', 'Pullman, WA, United States', 'Austin, TX', 'Munich Germany', 'Iran :)', 'West Linn, OR', 'Toronto', 'Shawnee, KS', 'Michigan, United States', 'Glasgow, United Kingdom', 'Boulder, Colorado, EE. UU.', 'België', 'Taipei City, 台灣', 'Switzerland', 'Oradea, Romania', 'Mechanicsburg, PA', 'Dover, NH', 'Parts Unknown', 'Transylvania, Romania', 'Kolhapur, Maharashtra, India', 'The Universe', 'Spain', 'Cluj-Napoca, Cluj County, Romania', 'Cranfield', 'Białystok, Poland', 'Oregon', 'Kharkov, Ukriane', 'Leipzig, Deutschland', 'München, Deutschland', 'UAE', \"Kyivs'ka oblast, Ukraine\", 'Colorado, United States', 'Chicago, IL, United States, Moscow Russia, Bangkok Thailand', 'Arkansas, United States', 'Visakhapatnam, India', 'Shanghai, China', 'Horsham, United Kingdom', 'Scotts Valley, CA', 'Colchester, United Kingdom', 'Champaign, IL, United States', 'Dhuy, Belgium', 'Bruges, Belgium', 'Raleigh, NC, United States', 'Duluth, GA', 'Yazd, Yazd Province, Iran', 'Santiago, Chile', 'Blacksburg, VA, United States', 'Baltimore, MD', 'Worcester, MA, United States', 'Flushing, Queens, NY, United States', 'Hyrule', 'Kingston, Jamaica', 'Laurel, MD', 'Elkton, MD, United States', 'Calgary, AB, Canada', 'Rosario, Argentina', 'Kathmandu', 'Markham, ON, Canada', 'Ulm, Germany', 'Noord-Brabant, The Netherlands', 'AR', 'Attleboro, MA', 'Claí Mór na Réaltaí, Laniakea SC', 'Boise, ID, United States', 'Bologna, Metropolitan City of Bologna, Italy', 'Pune,Maharashtra', 'Saudi Arabia', 'Morocco', 'Provo, UT', 'Latveria', 'Canada', 'Lily, KY', 'Laguna Hills, CA', 'Milton Keynes, United Kingdom', 'MN', 'Turin, Metropolitan City of Turin, Italy', 'North Wales, PA', 'Augsburg, Germany', 'Dallas TX', 'Noblesville, IN, United States', 'Asia Pasific', 'GMT / UTC +5:30', 'Ireland', '中国山东省Jinan Shi', 'Paris, Ile-de-France France', 'New York City, United States', 'Cherry Hill, NJ', 'Lancaster, Pennsylvania, United States', 'Manchester, England, United Kingdom', 'Springville, AL', 'Middletown, DE', 'Cedar Rapids, IA', 'Calgary, Alberta, Canada', 'Thatcham, United Kingdom', 'Radevormwald, Germany', 'Algeria', 'Powder Springs, GA, United States', 'Antananarivo Province, Madagascar', 'South San Francisco, CA, United States', 'Santa Fe, NM', 'Yanbu, Al Madinah Province, Saudi Arabia', 'Ernakulam, Kerala, India', 'Basel, Switzerland', 'Sivakasi, Tamil Nadu, India', 'Hilpoltstein, Deutschland', 'Dubai, UAE', 'Richmond, Virginia United States', 'Budapest, Hungría', 'Tegucigalpa, Honduras', 'Cincinnati, OH', 'Sol 3', 'Gothenburg', 'Goiânia, Brasil', 'Dang, Mid-Western Development Region, Nepal', 'Strasbourg, France', \"Canada's Technology Triangle\", 'Rzeszow, Poland', 'Northridge', 'Belarus', 'East San Francisco Bay Area', 'Bowers, PA', 'Bang Phli, Thailand', 'Willemstad, Curaçao', 'Coppell Texas, USA', 'Pleasanton, CA', 'Cheney, WA', 'Benicia, CA', 'Sibiu, Romania', 'Colorado Springs, CO', 'Bratislava, Slovakia', 'Berkshire, United Kingdom', 'St. Petersburg, Russia', 'Stennis Space Center, MS', 'Västra Frölunda, Sweden', 'Vitebsk, Vitebsk Region, Belarus', 'St. Paul, MN', 'Brønderslev, Nordjylland, Denmark', 'Memphis, TN', 'Lyngby, Denmark', 'Woodbridge, VA', 'Istanbul, İstanbul, Turkey', 'Muncie, IN', 'Charleston, SC, USA', 'San Diego, CA', 'Houston, TX, United States', 'Palo Alto, Kalifornien, USA', 'Beaverton, OR', 'Hannover, Deutschland', 'Łódź', 'San Diego, California, United States', 'vadodara', 'Copenhagen, Hovedstaden Denmark', 'Novosibirsk, Novosibirsk Oblast, Russia', 'Chandigarh, India', 'Norman, OK', 'Fairfax, VA', 'Bolton, United Kingdom', 'Haifa, Haifa, Israel', 'Ankara, Turkey', 'Hyderabad, Telangana, India', 'Växjö, Sverige', 'Alexandria, VA', 'Askim, Norway', 'Dharamshala, Himachal Pradesh, India', 'Wrocław, Poland', 'St. Petersburg, FL, United States', 'Lake St. Louis, MO, United States', 'Ahmadabad, Gujarat', 'Pijnacker, Nederland', 'Huntsville, AL', 'Brno, Czech Republic', 'Delft, The Netherlands', 'South Tyrol, Italy', 'New York, United States', 'Plymouth, United Kingdom', 'Kanpur, India', 'Concepción del Uruguay, Argentina', 'Leatherhead', 'Essen', 'Tabriz, Iran', 'California, USA', 'Grodno, Belarus', 'Kuna, ID', 'Wyoming', 'Healdsburg, CA', 'Madison, WI, USA', 'Belgrade, Serbia', 'Nova, VA', 'Los Angeles, California', 'Vancouver', 'Lausanne, Suisse', 'Trieste, TS, Italia', 'Novosibirsk, Russia (Новосибирск, Россия)', 'Wachtberg, Germany', 'Lebanon, OH, United States', 'Middletown, MO', 'Albacete, Spain', 'Falun, Sweden', 'Charlotte, NC, United States', 'The United States of America', 'Jeffersonville, IN', 'Chemnitz, Germany', 'Amsterdam, Nederland', 'Utah', 'Gloucestershire, United Kingdom', 'Reston (Fairfax County), Virginia USA', '78209', 'Arhus, Denmark', 'Grodzisk Mazowiecki, Poland', 'Martigny, Switzerland', 'Rotterdam, The Netherlands', 'Anaheim , CA', 'Brittany, France', 'Saskatoon, SK, Canada', 'Красноярск, Красноярский край, Россия', 'Hampshire, United Kingdom', 'Alberta', 'London UK', 'Oceania', 'London, United Kingdom', 'Mascouche, Canada', 'Barcelona, Catalonia', 'Ghent City', 'Rajkot, Gujarat, India', 'Ontario, Canada', 'Tuzla, Bosnia and Herzegovina', 'Liestal, Schweiz', 'Twin Cities, Minn.', 'Boston, MA, USA', 'Starnberg, Germany', 'Madison, WI USA', 'Charles Town, WV', 'Arangala, Sri Lanka', 'Hamburg, Germany, Earth, Milky way', 'Didcot, United Kingdom', 'Tel-Aviv', 'Addis Ababa, Ethiopia', 'Mertesdorf, Germany', 'Galway, Galway Ireland', 'Saarburg, Germany', 'Bengaluru, India', 'Lyon, France', 'Croatia', 'Cross Plains, WI, USA', 'Rishon LeZion, Israel', 'Columbus, OH, United States', 'Armenia', 'Acworth, Georgia, United States', 'West Sussex, United Kingdom', 'Gravataí, Brazil', 'St Petersburg, FL', 'Mauldin, South Carolina, United States', 'Havlíčkův Brod, Czech Republic', 'Monterrey, Mexico', 'Verona, Italy', 'RB, CA', 'Earth, Alpha Centauri', 'Darwin NT, Australia', 'Worldwide', 'Utah, United States', 'Palma de Mallorca, Spain', 'Santiago de Compostela, España', 'Sudan', 'Iowa', 'Gurgaon, Haryana, India', 'Minneapolis,Mn', 'Bhubaneswar, India', 'Columbus, Ohio', 'Edinburgh, UK', 'Albi, France', 'Cisco, Chicago', 'Broadview Heights, OH', 'Xiamen, China', 'Sofia, Bulgaria', 'Minsk, Belarus', 'My motorhome, Earth', 'Tamil Nadu, india', 'Lund, Sweden', 'Seattle, Washington, United States', '✈', 'Rotterdam, Netherlands', 'Sydney Australia', 'Orlando, FL, USA', 'Consett, United Kingdom', \"Chernihiv, Chernihivs'ka oblast, Ukraine\", 'Galle, Sri Lanka', 'Ann Arbor, MI, United States', 'South GA, USA', 'Harrogate, United Kingdom', 'Heraklion, Greece', 'hell', 'New Mexico, United States', 'Elkhart, IN', 'Swansea, UK', 'Olomouc, Czech Republic', 'Wake Forest, NC', 'Flyover Country', 'Tijuana, Mexico', 'Kävlinge, Sweden', 'Little Elm, TX, United States', 'Burgas, Bulgaria', 'Timisoara, Romania', 'Maroochydore, Queensland, Australia', 'Goch, Germany', 'Canary Islands, Spain', 'Rome, Italy', 'Emeryville, CA', 'Lombard, IL, United States', 'Irani, Tehran, Tehran Province, Iran', 'Gillingham, United Kingdom', 'Missouri, United States', 'Galicia, España', 'Wesel, Germany', 'Libertatia, Spensonia', 'Kolkata, West Bengal, India', 'Kitchener, ON, Canada', 'Guangzhou, China', 'INDIA', 'Chania, Greece', 'Russia, spb', 'Burgundy', 'Smyrna, GA', 'Delhi, India', 'São Paulo - State of São Paulo, Brazil', 'San Remo, Italy', 'Nebraska, United States', 'Ypsilanti, MI', 'Dresden, Germany', 'Sweden & Portugal', 'Achair, Cubicle', 'Villahermosa, Tabasco, Mexico', '♁', 'Virtual', 'Almaty, Kazakhstan', 'Fairfax, CA, United States', 'Diss, United Kingdom', 'Knoxville, TN', 'Elhovo, Bulgaria', 'Goa', 'Baroda, India', 'Long Island City, NY', 'Belluno, Province of Belluno, Italy', 'Mashhad, Razavi Khorasan Province, Iran', 'Nashville, TN, United States', 'North Long Beach, CA', 'Budapest, Magyarország', 'Portland, Or', 'Tennessee', 'Jena, Germany', 'Quebec', 'Trento, Italy', 'Holland', 'Iceland', 'Wichita, Kansas, United States', 'Köln, Deutschland', 'Ahmedabad', 'Brisbane QLD, Australia', 'La Plata, Argentina', 'Drifter', 'Bermuda', 'Berlin, Deutschland', 'Laguna Beach, CA', 'Duvall, Washington United States', 'Estonia', 'Yakima, WA, United States', 'Greater Boston, USA', 'Geneva, Switzerland', 'Suceava, Romania', 'London United Kingdom', 'Rio Grande, Brazil', 'Spain , really awesome', 'Philadelphia, PA, United States', 'Volta Redonda - Rio de Janeiro - Brazil', 'Alexandria, Alexandria Governorate, Egypt', 'Salerno, SA, Italia', 'Cuvat, France', 'Honolulu, HI', 'Taunton, United Kingdom', 'Belmont, CA, United States', 'Hermosillo, Sonora', 'Lübeck, Germany', 'New Orleans, LA', 'University of Toronto', 'San Diego, CA, USA', 'Dunedin, New Zealand', 'New York, NY, United States', 'Nanaimo, Canada', 'Rockville, UT', 'shanghai', 'Jerusalem, ישראל', '18431', 'Washington, D.C. area', 'Livonia, MI', 'localhost.localdomain', 'Kansas City, MO', 'Carrollton, TX, United States', 'Yokohama-shi, Japan', 'Manalapan, FL, United States', 'Kochi, India', 'Kathmandu, Central Region, Nepal', 'Amsterdam', 'Long Beach, CA, United States', 'Las Cruces, NM', 'Akron, Ohio, United States', 'Chambéry, France', 'Stanford, CA', 'Nederland', 'Lower Hutt, New Zealand', 'Manila, NCR, Philippines', 'Greater Perthshire, Scotland', 'Bucaramanga, Colombia', 'Médéa, Algeria', 'Rancho Cucamonga, CA, United States', 'Bhopal, India', 'Auckland, New Zealand', 'Karlsruhe, Deutschland', 'Caldwell, NJ', 'Lost in Cyberspace', 'Ithaca, NY', 'Alberta, Canada', 'Moskva, город Москва, Россия', 'Brugge', 'Edinburgh', 'Florence (ITALY)', 'localhost', 'Buckinghamshire, United Kingdom', 'Manila, Metro Manila, Philippines', 'Cyprus', 'Deventer, Netherlands', 'Austria', 'Philadephia, PA', 'near Syracuse, NY', 'The North Pole', 'Malang, Indonesia', 'Uganda East Africa', 'Saint Paul, MN', 'Bologna, Italy', 'Gent, België', 'Portugal', 'Valladolid, Spain', 'Palestine', 'Zaragoza, España', 'Indonesia', 'Sunnyvale, CA', 'Ojén, Málaga, Spain', 'Sweden, Malmö', 'Anacortes, WA', '61822', 'Amsterdam, MO', 'Newton-Le-Willows, United Kingdom', 'Hong Kong, Hong Kong', 'Prien, Bavaria, Germany', 'Illinois, USA', 'Carlsbad, CA', 'Kitchener, Canada', 'Kansas City, KS, United States', 'Melton Mowbray, United Kingdom', 'Canary Wharf, London, UK', 'Guildford, Гилфорд, Великобритания', 'Abbotsford, BC, Canada', 'Bogotá, Bogotá, Colombia', 'Barcelona, Catalunya, Spain', 'Brighton, England, United Kingdom', 'Wilton, CA', 'Australian Capital Territory, Australia', 'Uruguay', 'Denver, CO, USA', 'Maribor, Maribor Slovenia', 'Lenexa, KS, United States', 'Texas, US', 'San Marino, CA, United States', 'Boston, USA', 'Forest of Dean, United Kingdom', 'Alabama', 'New York City, New York, USA', 'Sherbrooke, Canada', 'Setauket, NY', 'Berlin, Germany', 'San Mateo, CA', 'Bristol', 'Los Angeles, CA, USA', 'Norman, OK, United States', 'Ohio, United States', 'Arad, Romania', 'New Zealand', 'ITER Organization', 'Nanjing, China', 'Northern California, CA, United States', 'Kingston, ON, Canada', 'New Jersey, United States', 'Nepal', 'Troy, NY, United States', 'Waterloo, IA', 'Tienen, Belgium', 'Sintra, Portugal', 'New York, New York United States', 'Midlands, UK', \"L'viv, L'viv Region, Ukraine\", 'Ferrol, Spain', 'West Jordan, UT', 'Espoo, Finland', 'Västervåla, Sweden', 'Abu Dhabi - United Arab Emirates', 'Macon, GA', 'Pittsburgh, PA', 'Warwick, Canada', 'Kumasi, Ghana', 'Kiev, Ukraine', 'Utrecht, NL', 'Zweibrücken, Deutschland', 'Delaware, OH, United States', 'Hartford, WI', 'Prague, Czechia', 'Roanne, France', 'Mittweida, Germany', 'Feldkirch, Österreich', 'Lierop, Netherlands', '(0,0,1)', 'Haifa, Israel', 'Meridian, ID, United States', 'Cleveland, OH', 'Kraków, Poland', 'Chrudim, Czech Republic', 'Chennai, Tamil Nadu, India', 'Colombo, Western Province, Sri Lanka', 'Gelderland, Netherlands', 'Mannheim, Germany', 'Woking, United Kingdom', 'Buchholz in der Nordheide, Deutschland', 'Fort Smith, AR', 'Mayfair, London', 'Kreuzlingen, Schweiz', 'France, Lille', 'Arequipa, Peru', 'Kent, WA', 'Central Ohio', 'moscow', 'https://twitter.com/OOwlSolutions', 'Oakton, VA, United States', 'بنسليمان, Morocco', 'Florianópolis - State of Santa Catarina, Brazil', 'Philippines', 'Penang Malaysia', 'CA, United States', 'Canterbury, CT', 'Alicante, Spain', 'Istanbul', 'San Francisco Bay, CA, United States', 'Ashford, United Kingdom', 'Antwerpen, Antwerp, Belgium', 'Los Gatos, CA, United States', 'Frisco, TX', 'San Francisco, CA', 'Cumberland, RI', 'Ventura, CA', 'Faisalabad, Pakistan', '0xBF881440', 'Columbia, MO', 'Stavanger, Norway', 'Kansas City, KS', 'Winston-Salem, NC', 'internet', 'İsmayıllı, Azerbaijan', 'Maldives', 'Hillsboro, OR', 'Brooklyn, NY, United States', 'Golden, CO', 'Pune, India', 'Thurso, United Kingdom', 'Rhode Island, United States', 'Irvine, California', 'Chisinau, Moldova', \"Well, if there's a bright center to the universe, [I'm] on the planet that it's farthest from.\", 'Kingdom of Rust', 'Scottville, MI', 'Rödermark-Ober Roden, Dieburger Straße, Rödermark, Germany', 'Sterling, VA', 'shanghai, china', 'Spanien', 'Drupal.PlaceTo.Be', 'Billerica, MA, United States', 'Chelyabinsk, Russia', 'Mérida, Venezuela', 'Kansas', 'Cagnes-sur-Mer, France', 'Valencia, Spain', 'Tampa, FL', 'oregon, usa', 'Surabaya', 'Kyiv city, Ukraine', 'Wilkes-Barre, PA', 'Thiruvananthapuram, Kerala, India', 'Noida, India', 'Ibach SZ, Schweiz', 'Developer', 'Reading, England', 'Wedel, Germany', 'Valencia, España', 'Ballwin, MO', 'Sikkim', 'Brandon, MS, United States', 'Dorset, United Kingdom', 'Santos Lugares, Argentina', 'Great Falls, VA, United States', 'United Arab Emirates', 'Padua, Italy', 'St. Gallen, Schweiz', 'Royalsofts - Pakistan', 'Nürnberg, Deutschland', 'Stockholm, Sverige', 'NYC, NY, United States', 'Campinas, Brazil', 'Tauranga, New Zealand', 'Wisconsin', 'Oslo, Norge', 'Aix-en-Provence, France', 'Sarriguren, Spain', 'Taipei City Taiwan', 'Edmonton, Canada', 'Nashua, NH', 'Providence, RI', 'Tulsa, OK', 'Kuala Lumpur Federal Territory of Kuala Lumpur Malaysia', 'Iran,Shiraz', 'Home, KS', 'Berkeley, CA', 'Tehran', 'Cambodia', 'Dipolog, Philippines', 'Chicago area', 'Baku, Azerbaijan', 'Florida', 'Minneapolis, MN, United States', 'Montana, United States', 'Cornwall, United Kingdom', 'Lincoln, NE, United States', 'Euless, TX', 'Kazakhstan, Казахстан', 'Salaberry-de-Valleyfield, Canada', 'Greenacres, FL, United States', 'Nashik', 'Troms, Norge', 'Scappoose, OR', 'West Mids, UK', 'Amsterdam, The Netherlands', 'Greenville, SC', 'Miami Beach, FL, United States', 'Constanta, Romania', 'Glendale, CA', 'Karlstad, Varmland Sweden', 'Layton, UT', 'Gleisdorf, Austria', 'Goole, United Kingdom', 'Teresina, Brazil', 'San Antonio, Texas United States', 'Stevenage, United Kingdom', 'Pittsburgh, PA, USA', 'Romania', 'Togliatty, Russia & NYC, USA', 'North Canton, OH, United States', 'Hartford, CT', 'STRASBOURG (France), Strasbourg, France', 'Tempe, AZ, United States', 'Stadthagen, Germany', '中国北京市Beijing Shi', 'Logan, UT', 'Berlino, Germania', 'Ha Long city, Vietnam', 'Mauritius', 'Manassas, VA, United States', 'Enschede, Netherlands', 'Doncaster, United Kingdom', 'Sanya, China', 'Oxford, United Kingdom', 'Kampala', 'Aliso Viejo, CA, United States', 'Buenos Aires, Autonomous City of Buenos Aires, Argentina', 'Perth', 'Northern Virginia', 'fr', 'New York, NY, USA', 'Baiersdorf, Germany', 'Napoli, NA, Italia', 'Kobe, Hyogo Prefecture, Japan', 'Davis, CA', 'Montgomery Village, MD', 'Klaipėda, Lithuania', 'Singapore, Singapore', 'Chalmette, LA', 'Cincinnati, Ohio', 'Independence, KY', 'Halle (Saale), Germany', 'Montfoort, Netherlands', 'Buffalo Grove, IL', 'Lille, France', 'Santa Cruz, CA', 'Saint-Etienne, France', 'Brussels, Belgium', 'Moscow', 'Minneapolis, MN', 'Nottingham, United Kingdom', 'Massachusetts', 'Brisbane', 'Hamburg, Germany', 'Your favorite IDE', 'Cedar Hills, UT, United States', 'Muscat, Oman', 'Wrocław, Polska', 'Swindon, United Kingdom', 'Charlottetown, PE, Canada', 'Santa Clara, CA, United States', 'South-East of France', 'Eastern United States', 'Macedonia (FYROM)', 'Ipswich, United Kingdom', 'Syria', 'Victoria, BC', 'Ámsterdam, Países Bajos', 'Daytona Beach, FL, United States', 'USA / TR', 'Wyomissing, PA', 'East Bay, CA', 'Qatar', 'Oregon Coast', 'Dayton, OH', 'Farmville, VA', 'Washington DC metro area + Sarasota, FL', 'Sharjah - United Arab Emirates', 'Pune, Maharashtra, India', 'Pristina, Republic of Kosovo', 'Ng', 'South Australia', 'Ankara, Türkiye', 'Hannover, Gemany', 'Birmingham, AL, United States', 'Welwyn Garden City, United Kingdom', 'Appalachia', 'York, NE', 'Santo Domingo, Dominican Republic', 'Murcia, España', 'Kiel, Deutschland', \"Sevastopol', Ukraine\", 'Austin, TX, United States', 'Porsgrunn, Norway', 'Norfolk VA', 'Sweden', 'East Coast', 'Highland Lakes, NJ', 'Wichita, KS, United States', 'London, UK', 'Dortmund, Germany', 'Shropshire, United Kingdom', 'Durban, South Africa', 'Tel Aviv-Yafo, Israel', 'Vancouver, Washington United States', 'Yerevan, Armenia', 'Geneva', 'Białystok, Polska', 'Queretaro', 'Old Anarkali Road, Lahore, Pakistan', 'New York, NY', 'Giessen, Germany', 'Ghaziabad, Uttar Pradesh, India', 'St Paul, MN', 'Camp Hill, PA', 'West Lothian, Scotland', 'Hangzhou, China', 'Cupertino, CA', 'Monterey, CA, USA', 'Sri Lanka', 'Waltham, MA', 'Westborough, MA', 'Vienna', 'Cairo, Egypt', 'Emsland, Deutschland', 'My Home Town', 'Thailand', 'Oost-Vlaanderen, Belgium', 'Norman, AR', 'Gatineau, QC, Canada', '대한민국 Seoul', 'Fayetteville, AR, United States', 'Seattle, Washington, Stati Uniti', 'Laguna, Philippines', 'São Paulo - Brasil', 'Düsseldorf, Deutschland', 'Earth, TX', 'Leeds, UK', 'Hermosillo, Mexico', 'Madrid, España', 'Rome, NY', 'Spokane, WA', 'Toronto, Ontario, Canada', 'Zagreb, Croatia', 'Seattle, WA', 'TX, United States', 'Calw, Germany', 'Luxembourg City, Luxembourg', 'Mckinney, TX', 'Florida, United States', 'Winchester, VA', 'Spanaway, WA', 'Moscow, Russia', 'Halifax, NS, Canada', \"Canada. Please don't stalk me.\", 'Goa, India', 'Salt Lake City, UT, United States', 'CT, United States', 'Nymegen, Gelderland, Netherlands', 'Prague, Czech Republic', 'Richmond, VA, United States', 'Madrid', 'Manchester, United Kingdom', 'Gran, Norway', 'Kabul - Afghanistan', 'Liverpool, United Kingdom', 'Serbia, Belgrade', 'Richmond, CA', '/dev/null', 'Gachsaran, Kohgiluyeh and Boyer-Ahmad Province, Iran', '25° N 32° E', 'Norther Virginia', 'Wellington, Wellington New Zealand', 'Ethiopia', 'Mayence, Germany', 'Baroda, Gujarat, India', 'Rhode Island', 'China', 'Crystal, MN, United States', 'Omsk, Russia', 'Vadodara, Gujarat, India', 'Groningen, The Netherlands', 'Eindhoven', 'Ussuriysk, Russia', 'Vicksburg, MI', 'San Carlos, California, United States', 'Kicevo, Municipality of Kichevo, Macedonia (FYROM)', 'Helsinki, Suomi / Finland', 'Newcastle upon Tyne, United Kingdom', 'Cluj-Napoca', 'Epsom, United Kingdom', 'Syracuse, NY', 'São José dos Campos - SP, Brasil', 'St. Charles, MO', 'Umbria', 'Malmö, Sverige', 'Pasadena, CA', 'Kathmandu, Nepal', 'Tamil Nadu,India', '.se', 'Lehi, UT, United States', 'Bundaberg QLD, Australia', 'Pittsford, NY', 'Hilbert, WI', 'Texas, USA', 'Antarctica', 'Pardubice, Czech Republic', 'Córdoba, Cordoba, Argentina', 'Santa Cruz, CA, USA', 'Vienna, Austria', 'USA / Netherlands', 'Flensburg, Germany', 'Poznań', 'Cleveland, Ohio, United States', 'florida, alaska, thailand', 'Cambridge, MA', 'Orange County, CA', 'Brasil', 'Beaumont, TX', 'George, South Africa', 'St Kilda West', 'Columbia, MD, United States', \"Reggio nell'Emilia, Italy\", 'Michigan', 'Ringwood, United Kingdom', 'Sankt-Peterburg, Санкт-Петербург, Россия', 'Rosario, Santa Fe Province, Argentina', 'Aarhus, Denmark', 'Malmö, Sweden', 'Iowa City, IA', 'Durham, NC', 'Chengdu, China', 'In the puɐlǝʇsɐM', 'Albstadt, Germany', 'Minnetonka, MN', 'El Paso, TX', 'Essen, Germany', 'West coast, yo.', 'Atlanta, GA', 'Boise, ID', 'Ruislip, United Kingdom', 'Gladsaxe, Denmark', 'Sandersville, MS, United States', 'Julian, CA', 'Bonab, East Azerbaijan Province, Iran', 'Cumming, GA', 'Liverpool, England', 'Asuncion, Paraguay', 'Cartagena - Bolivar, Colombia', 'Toronto, ON & Portland, OR', 'Chandler, AZ', 'Eugene, OR', 'Karachi, Sindh, Pakistan', 'California, Australia or NZ', 'Islamabad, Islamabad Capital Territory, Pakistan', 'Milan, Metropolitan City of Milan, Italy', 'The interweb', 'Ingolstadt, Germany', 'Utrecht, The Netherlands', 'Kirkland, WA, United States', 'Taganrog, Russia', 'Unterschleissheim, Bavaria, Germany', 'Silicon Valley', 'Ottawa, Canada', 'Minnesota', \"Can't really pin it...\", 'Santa Clara, CA, USA', 'East Coast, USA', 'La Crosse, WI, United States', 'Oregon, United States', 'Maryborough, Victoria Australia', 'Kirkland, WA, USA, 98033', 'Montclair, NJ', 'San Francisco, California, United States', 'Southampton', 'Long Island, New York, NY, United States', 'Gorzów Wielkopolski, Poland', 'Vicenza, Italy', 'Sevres, France', 'Helsinki, Finland', 'Somewhere on the Planet', 'Norwich, UK', 'Milan, Italy', 'Fuquay Varina, NC, United States', 'Kortrijk, België', 'Boston, MA, United States', 'Piracicaba, SP, Brazil', 'Istanbul, not constantinople, Turkey', 'Watsonville, CA, United States', 'Leeds, United Kingdom', 'Bogota, Colombia', 'Lancaster, PA', 'New York City, NY, United States', 'Inverness', 'Rio Claro - SP - Brasil', 'London(ish)', 'Inde', 'Jaipur, Rajasthan, India', 'Madison, AL', 'St. Charles, MO, United States', 'Brooklyn, New York, United States', 'Bowling Green, KY', 'Bangladesh', 'Oxnard, CA, United States', 'San Jose, CA, United States', 'Phoenix, AZ, United States', 'Minnesota, USA', 'Claridge, PA', 'Peoria, AZ', 'Arlington, VA', 'Europa', 'Kalispell, MT', 'Serbia', 'Huntington Beach, CA, United States', 'Shreveport, LA, United States', 'Bonn, Germany', 'Sydney, New South Wales, Australia', 'The Hague, The Netherlands', 'Wales, UK', 'Reading, United Kingdom', 'Weston, FL, USA', 'Novosibirsk, Новосибирская область, Россия', 'Québec', 'England, United Kingdom', 'Serbia and Montenegro', 'Mansfield, CT, United States', 'Leon, Spain', 'Henderson, NV, United States', 'Lüneburg, Germany', 'Tel Aviv, Israel', 'Petrov nad Desnou, Czech Republic', 'Vancouver, WA', 'New Hampshire', 'Rasht, Iran', 'Erode', 'Duisburg, Germany', 'Leuven, Belgium', 'Wichita, KS', 'Nantes, France', 'Daganzo de Arriba, Madrid, Spain', 'Maidstone, United Kingdom', 'Udupi, Karnataka, India', 'Tokyo', 'merge delete', 'Planet Earth', 'France', 'Somewhere... but not here.', 'Raleigh, NC', 'Khulna, Bangladesh', 'Trento, TN, Italia', 'chennai', 'Charleston, WV', 'Cranford, NJ, USA', 'Turku, Finland', 'The desert', 'Chicago, IL, USA', 'Gujranwala, Pakistan', 'West Yorkshire, UK', 'Vilnius, Republic of Lithuania', 'Belo Horizonte/MG - Brazil', 'Hoover, AL, USA', 'Somewhere near the inner rim of the Orion Arm', 'Beaver Dam, WI', 'Thuwal, Saudi Arabia', 'Cambridge, United Kingdom', 'Telangana, India', 'Springfield, MO', 'Liverpool, NY', 'Breslau/Dresden/Bamberg', 'Monrovia, CA', 'Belo Horizonte - State of Minas Gerais, Brazil', 'Cancun Quintana Roo Mexico', 'Lincoln, NE', 'Somewhere UTC +08:00', 'Quebec City, Canada', 'Pensacola, FL, United States', 'Bergen, Norway', 'Canterbury, United Kingdom', 'Haltingen, Weil am Rhein, Germany', 'Sioux Falls, SD', 'Russia, Saint-Petersberg', 'Mexico City, Mexico', 'Hallein, Austria', 'Upper Marlboro, MD', 'Rock Hill, SC', 'Gujarat', 'Thessaloniki, Central Macedonia, Greece', 'Lisle, IL, USA', 'Amersfoort, the Netherlands', 'Planet earth', 'Kensington, MD', 'La Mesa, CA', 'Columbia, SC', 'New Delhi, India', 'Mountain Home, WY', 'Beijing, China', 'Tunkhannock Township, PA, United States', 'Draper, UT', 'Como, Italy', 'Heuthen, Germany', 'Campinas - SP, Brasil', 'Nosgoth', 'Prague', 'Phnom Penh, Cambodia', 'Janesville, WI', 'Tampere, Finland', 'SF Bay Area, California, USA', 'DC', 'Cluj-Napoca, Romania', 'Bremen, Deutschland', 'Eastbourne, UK', 'Lleida, Spain', 'Mountain View, CA', 'Milky Way, Orion Spur', 'Vleuten, Netherlands', 'Massachusetts, USA', 'St Paul, MN, United States', 'Livermore, CA', 'Nashville, TN, USA', 'Cincinnati, Ohio, United States', 'Varna, Bulgaria', 'Bath, England United Kingdom', 'Coimbatore', 'Pennsylvania State University University Park, PA', 'North Wales, United Kingdom', 'From up there. Now down here.', 'Toronto, ON, Canada', 'front of my laptop', 'Nipomo, CA', 'Oman', 'Landsberg am Lech, Germany', 'Andøy, Norway', 'Asunción, Paraguay', 'Sector ZZ9 Plural Z Alpha', 'Kattegat', 'New Jersey', 'Seattle Area, WA', 'Amarillo, TX', 'Dalgety Bay, Scotland', 'Bournemouth, United Kingdom', 'Maryland, USA', 'Penicuik, United Kingdom', 'Christchurch, Canterbury, New Zealand', 'Ann Arbor, MI, USA', 'south pacific', 'Uk', 'Middlesbrough, United Kingdom', 'Guatemala', 'Bangalore, India', 'Chennai, India', 'Davao City, Philippines', 'Kanata, Ontario', 'Las Vegas, NV', 'Erie, CO', 'Treviso, Italy', '.cn', 'Washington DC', 'Beijing', 'Linkoping, Sweden', 'Bremen', 'Barcelona', 'Bulgaria'}\n",
      "The posts indicate 3170 demanding Skills.\n"
     ]
    }
   ],
   "source": [
    "SkillsList = df['Location'].tolist()\n",
    "Skillset = set(SkillsList)\n",
    "print(Skillset)\n",
    "print('The posts indicate', len(Skillset), 'demanding Skills.')"
   ]
  },
  {
   "cell_type": "code",
   "execution_count": 182,
   "metadata": {},
   "outputs": [
    {
     "data": {
      "text/html": [
       "<div>\n",
       "<style scoped>\n",
       "    .dataframe tbody tr th:only-of-type {\n",
       "        vertical-align: middle;\n",
       "    }\n",
       "\n",
       "    .dataframe tbody tr th {\n",
       "        vertical-align: top;\n",
       "    }\n",
       "\n",
       "    .dataframe thead tr th {\n",
       "        text-align: left;\n",
       "    }\n",
       "</style>\n",
       "<table border=\"1\" class=\"dataframe\">\n",
       "  <thead>\n",
       "    <tr>\n",
       "      <th></th>\n",
       "      <th>Date</th>\n",
       "    </tr>\n",
       "    <tr>\n",
       "      <th></th>\n",
       "      <th>count</th>\n",
       "    </tr>\n",
       "  </thead>\n",
       "  <tbody>\n",
       "    <tr>\n",
       "      <th>count</th>\n",
       "      <td>72.000000</td>\n",
       "    </tr>\n",
       "    <tr>\n",
       "      <th>mean</th>\n",
       "      <td>1.388889</td>\n",
       "    </tr>\n",
       "    <tr>\n",
       "      <th>std</th>\n",
       "      <td>1.145174</td>\n",
       "    </tr>\n",
       "    <tr>\n",
       "      <th>min</th>\n",
       "      <td>1.000000</td>\n",
       "    </tr>\n",
       "    <tr>\n",
       "      <th>25%</th>\n",
       "      <td>1.000000</td>\n",
       "    </tr>\n",
       "    <tr>\n",
       "      <th>50%</th>\n",
       "      <td>1.000000</td>\n",
       "    </tr>\n",
       "    <tr>\n",
       "      <th>75%</th>\n",
       "      <td>1.000000</td>\n",
       "    </tr>\n",
       "    <tr>\n",
       "      <th>max</th>\n",
       "      <td>7.000000</td>\n",
       "    </tr>\n",
       "  </tbody>\n",
       "</table>\n",
       "</div>"
      ],
      "text/plain": [
       "            Date\n",
       "           count\n",
       "count  72.000000\n",
       "mean    1.388889\n",
       "std     1.145174\n",
       "min     1.000000\n",
       "25%     1.000000\n",
       "50%     1.000000\n",
       "75%     1.000000\n",
       "max     7.000000"
      ]
     },
     "execution_count": 182,
     "metadata": {},
     "output_type": "execute_result"
    }
   ],
   "source": [
    "df1_Toronto.describe()"
   ]
  },
  {
   "cell_type": "code",
   "execution_count": 205,
   "metadata": {},
   "outputs": [
    {
     "ename": "AttributeError",
     "evalue": "'DataFrame' object has no attribute 'sort_value'",
     "output_type": "error",
     "traceback": [
      "\u001b[1;31m---------------------------------------------------------------------------\u001b[0m",
      "\u001b[1;31mAttributeError\u001b[0m                            Traceback (most recent call last)",
      "\u001b[1;32m<ipython-input-205-c6f300128117>\u001b[0m in \u001b[0;36m<module>\u001b[1;34m()\u001b[0m\n\u001b[1;32m----> 1\u001b[1;33m \u001b[0mdf_DateTag\u001b[0m\u001b[1;33m.\u001b[0m\u001b[0msort_value\u001b[0m\u001b[1;33m(\u001b[0m\u001b[1;34m'TagName'\u001b[0m\u001b[1;33m)\u001b[0m\u001b[1;33m\u001b[0m\u001b[0m\n\u001b[0m",
      "\u001b[1;32mC:\\ProgramData\\Anaconda3\\lib\\site-packages\\pandas\\core\\generic.py\u001b[0m in \u001b[0;36m__getattr__\u001b[1;34m(self, name)\u001b[0m\n\u001b[0;32m   3612\u001b[0m             \u001b[1;32mif\u001b[0m \u001b[0mname\u001b[0m \u001b[1;32min\u001b[0m \u001b[0mself\u001b[0m\u001b[1;33m.\u001b[0m\u001b[0m_info_axis\u001b[0m\u001b[1;33m:\u001b[0m\u001b[1;33m\u001b[0m\u001b[0m\n\u001b[0;32m   3613\u001b[0m                 \u001b[1;32mreturn\u001b[0m \u001b[0mself\u001b[0m\u001b[1;33m[\u001b[0m\u001b[0mname\u001b[0m\u001b[1;33m]\u001b[0m\u001b[1;33m\u001b[0m\u001b[0m\n\u001b[1;32m-> 3614\u001b[1;33m             \u001b[1;32mreturn\u001b[0m \u001b[0mobject\u001b[0m\u001b[1;33m.\u001b[0m\u001b[0m__getattribute__\u001b[0m\u001b[1;33m(\u001b[0m\u001b[0mself\u001b[0m\u001b[1;33m,\u001b[0m \u001b[0mname\u001b[0m\u001b[1;33m)\u001b[0m\u001b[1;33m\u001b[0m\u001b[0m\n\u001b[0m\u001b[0;32m   3615\u001b[0m \u001b[1;33m\u001b[0m\u001b[0m\n\u001b[0;32m   3616\u001b[0m     \u001b[1;32mdef\u001b[0m \u001b[0m__setattr__\u001b[0m\u001b[1;33m(\u001b[0m\u001b[0mself\u001b[0m\u001b[1;33m,\u001b[0m \u001b[0mname\u001b[0m\u001b[1;33m,\u001b[0m \u001b[0mvalue\u001b[0m\u001b[1;33m)\u001b[0m\u001b[1;33m:\u001b[0m\u001b[1;33m\u001b[0m\u001b[0m\n",
      "\u001b[1;31mAttributeError\u001b[0m: 'DataFrame' object has no attribute 'sort_value'"
     ]
    }
   ],
   "source": [
    "df_DateTag.sort_value('TagName')"
   ]
  },
  {
   "cell_type": "code",
   "execution_count": 203,
   "metadata": {
    "scrolled": true
   },
   "outputs": [
    {
     "name": "stdout",
     "output_type": "stream",
     "text": [
      "                   Date             Location           TagName\n",
      "95  2012-01-08 05:35:41  Toronto, ON, Canada         zend-mail\n",
      "30  2012-01-08 05:35:41  Toronto, ON, Canada    zend-framework\n",
      "99  2015-12-16 14:56:19  Toronto, ON, Canada  yeoman-generator\n",
      "83  2014-01-19 14:13:03          Toronto, ON               tcp\n",
      "61  2012-05-08 06:35:38              Toronto          username\n",
      "56  2012-01-22 04:08:26              Toronto   silverlight-3.0\n",
      "55  2012-01-22 04:08:26              Toronto       silverlight\n"
     ]
    }
   ],
   "source": [
    "df6=df_DateTag.sort_values(['Location','TagName'],ascending=False).groupby('Location').head(3)\n",
    "print(df6)"
   ]
  },
  {
   "cell_type": "code",
   "execution_count": 198,
   "metadata": {},
   "outputs": [
    {
     "name": "stderr",
     "output_type": "stream",
     "text": [
      "C:\\ProgramData\\Anaconda3\\lib\\site-packages\\pandas\\core\\groupby.py:4291: FutureWarning: using a dict with renaming is deprecated and will be removed in a future version\n",
      "  return super(DataFrameGroupBy, self).aggregate(arg, *args, **kwargs)\n"
     ]
    },
    {
     "ename": "KeyError",
     "evalue": "'count'",
     "output_type": "error",
     "traceback": [
      "\u001b[1;31m---------------------------------------------------------------------------\u001b[0m",
      "\u001b[1;31mKeyError\u001b[0m                                  Traceback (most recent call last)",
      "\u001b[1;32mC:\\ProgramData\\Anaconda3\\lib\\site-packages\\pandas\\core\\indexes\\base.py\u001b[0m in \u001b[0;36mget_loc\u001b[1;34m(self, key, method, tolerance)\u001b[0m\n\u001b[0;32m   2524\u001b[0m             \u001b[1;32mtry\u001b[0m\u001b[1;33m:\u001b[0m\u001b[1;33m\u001b[0m\u001b[0m\n\u001b[1;32m-> 2525\u001b[1;33m                 \u001b[1;32mreturn\u001b[0m \u001b[0mself\u001b[0m\u001b[1;33m.\u001b[0m\u001b[0m_engine\u001b[0m\u001b[1;33m.\u001b[0m\u001b[0mget_loc\u001b[0m\u001b[1;33m(\u001b[0m\u001b[0mkey\u001b[0m\u001b[1;33m)\u001b[0m\u001b[1;33m\u001b[0m\u001b[0m\n\u001b[0m\u001b[0;32m   2526\u001b[0m             \u001b[1;32mexcept\u001b[0m \u001b[0mKeyError\u001b[0m\u001b[1;33m:\u001b[0m\u001b[1;33m\u001b[0m\u001b[0m\n",
      "\u001b[1;32mpandas/_libs/index.pyx\u001b[0m in \u001b[0;36mpandas._libs.index.IndexEngine.get_loc\u001b[1;34m()\u001b[0m\n",
      "\u001b[1;32mpandas/_libs/index.pyx\u001b[0m in \u001b[0;36mpandas._libs.index.IndexEngine.get_loc\u001b[1;34m()\u001b[0m\n",
      "\u001b[1;32mpandas/_libs/hashtable_class_helper.pxi\u001b[0m in \u001b[0;36mpandas._libs.hashtable.PyObjectHashTable.get_item\u001b[1;34m()\u001b[0m\n",
      "\u001b[1;32mpandas/_libs/hashtable_class_helper.pxi\u001b[0m in \u001b[0;36mpandas._libs.hashtable.PyObjectHashTable.get_item\u001b[1;34m()\u001b[0m\n",
      "\u001b[1;31mKeyError\u001b[0m: 'count'",
      "\nDuring handling of the above exception, another exception occurred:\n",
      "\u001b[1;31mKeyError\u001b[0m                                  Traceback (most recent call last)",
      "\u001b[1;32m<ipython-input-198-0c6295620419>\u001b[0m in \u001b[0;36m<module>\u001b[1;34m()\u001b[0m\n\u001b[0;32m      1\u001b[0m \u001b[1;31m#print(df1_Toronto.sort_values([('Date.count')], ascending=[1]))\u001b[0m\u001b[1;33m\u001b[0m\u001b[1;33m\u001b[0m\u001b[0m\n\u001b[1;32m----> 2\u001b[1;33m \u001b[0mdf_agg\u001b[0m \u001b[1;33m=\u001b[0m \u001b[0mdf_DateTag\u001b[0m\u001b[1;33m.\u001b[0m\u001b[0mgroupby\u001b[0m\u001b[1;33m(\u001b[0m\u001b[1;33m[\u001b[0m\u001b[1;34m'Location'\u001b[0m\u001b[1;33m,\u001b[0m\u001b[1;34m'TagName'\u001b[0m\u001b[1;33m]\u001b[0m\u001b[1;33m)\u001b[0m\u001b[1;33m.\u001b[0m\u001b[0magg\u001b[0m\u001b[1;33m(\u001b[0m\u001b[1;33m{\u001b[0m\u001b[1;34m'count'\u001b[0m\u001b[1;33m:\u001b[0m\u001b[0msum\u001b[0m\u001b[1;33m}\u001b[0m\u001b[1;33m)\u001b[0m\u001b[1;33m\u001b[0m\u001b[0m\n\u001b[0m\u001b[0;32m      3\u001b[0m \u001b[0mg\u001b[0m \u001b[1;33m=\u001b[0m \u001b[0mdf_agg\u001b[0m\u001b[1;33m[\u001b[0m\u001b[1;34m'count'\u001b[0m\u001b[1;33m]\u001b[0m\u001b[1;33m.\u001b[0m\u001b[0mgroupby\u001b[0m\u001b[1;33m(\u001b[0m\u001b[0mlevel\u001b[0m\u001b[1;33m=\u001b[0m\u001b[1;36m0\u001b[0m\u001b[1;33m,\u001b[0m \u001b[0mgroup_keys\u001b[0m\u001b[1;33m=\u001b[0m\u001b[1;32mFalse\u001b[0m\u001b[1;33m)\u001b[0m\u001b[1;33m\u001b[0m\u001b[0m\n\u001b[0;32m      4\u001b[0m \u001b[0mres\u001b[0m \u001b[1;33m=\u001b[0m \u001b[0mg\u001b[0m\u001b[1;33m.\u001b[0m\u001b[0mapply\u001b[0m\u001b[1;33m(\u001b[0m\u001b[1;32mlambda\u001b[0m \u001b[0mx\u001b[0m\u001b[1;33m:\u001b[0m \u001b[0mx\u001b[0m\u001b[1;33m.\u001b[0m\u001b[0morder\u001b[0m\u001b[1;33m(\u001b[0m\u001b[0mascending\u001b[0m\u001b[1;33m=\u001b[0m\u001b[1;32mFalse\u001b[0m\u001b[1;33m)\u001b[0m\u001b[1;33m.\u001b[0m\u001b[0mhead\u001b[0m\u001b[1;33m(\u001b[0m\u001b[1;36m3\u001b[0m\u001b[1;33m)\u001b[0m\u001b[1;33m)\u001b[0m\u001b[1;33m\u001b[0m\u001b[0m\n",
      "\u001b[1;32mC:\\ProgramData\\Anaconda3\\lib\\site-packages\\pandas\\core\\groupby.py\u001b[0m in \u001b[0;36maggregate\u001b[1;34m(self, arg, *args, **kwargs)\u001b[0m\n\u001b[0;32m   4289\u001b[0m         versionadded=''))\n\u001b[0;32m   4290\u001b[0m     \u001b[1;32mdef\u001b[0m \u001b[0maggregate\u001b[0m\u001b[1;33m(\u001b[0m\u001b[0mself\u001b[0m\u001b[1;33m,\u001b[0m \u001b[0marg\u001b[0m\u001b[1;33m,\u001b[0m \u001b[1;33m*\u001b[0m\u001b[0margs\u001b[0m\u001b[1;33m,\u001b[0m \u001b[1;33m**\u001b[0m\u001b[0mkwargs\u001b[0m\u001b[1;33m)\u001b[0m\u001b[1;33m:\u001b[0m\u001b[1;33m\u001b[0m\u001b[0m\n\u001b[1;32m-> 4291\u001b[1;33m         \u001b[1;32mreturn\u001b[0m \u001b[0msuper\u001b[0m\u001b[1;33m(\u001b[0m\u001b[0mDataFrameGroupBy\u001b[0m\u001b[1;33m,\u001b[0m \u001b[0mself\u001b[0m\u001b[1;33m)\u001b[0m\u001b[1;33m.\u001b[0m\u001b[0maggregate\u001b[0m\u001b[1;33m(\u001b[0m\u001b[0marg\u001b[0m\u001b[1;33m,\u001b[0m \u001b[1;33m*\u001b[0m\u001b[0margs\u001b[0m\u001b[1;33m,\u001b[0m \u001b[1;33m**\u001b[0m\u001b[0mkwargs\u001b[0m\u001b[1;33m)\u001b[0m\u001b[1;33m\u001b[0m\u001b[0m\n\u001b[0m\u001b[0;32m   4292\u001b[0m \u001b[1;33m\u001b[0m\u001b[0m\n\u001b[0;32m   4293\u001b[0m     \u001b[0magg\u001b[0m \u001b[1;33m=\u001b[0m \u001b[0maggregate\u001b[0m\u001b[1;33m\u001b[0m\u001b[0m\n",
      "\u001b[1;32mC:\\ProgramData\\Anaconda3\\lib\\site-packages\\pandas\\core\\groupby.py\u001b[0m in \u001b[0;36maggregate\u001b[1;34m(self, arg, *args, **kwargs)\u001b[0m\n\u001b[0;32m   3722\u001b[0m \u001b[1;33m\u001b[0m\u001b[0m\n\u001b[0;32m   3723\u001b[0m         \u001b[0m_level\u001b[0m \u001b[1;33m=\u001b[0m \u001b[0mkwargs\u001b[0m\u001b[1;33m.\u001b[0m\u001b[0mpop\u001b[0m\u001b[1;33m(\u001b[0m\u001b[1;34m'_level'\u001b[0m\u001b[1;33m,\u001b[0m \u001b[1;32mNone\u001b[0m\u001b[1;33m)\u001b[0m\u001b[1;33m\u001b[0m\u001b[0m\n\u001b[1;32m-> 3724\u001b[1;33m         \u001b[0mresult\u001b[0m\u001b[1;33m,\u001b[0m \u001b[0mhow\u001b[0m \u001b[1;33m=\u001b[0m \u001b[0mself\u001b[0m\u001b[1;33m.\u001b[0m\u001b[0m_aggregate\u001b[0m\u001b[1;33m(\u001b[0m\u001b[0marg\u001b[0m\u001b[1;33m,\u001b[0m \u001b[0m_level\u001b[0m\u001b[1;33m=\u001b[0m\u001b[0m_level\u001b[0m\u001b[1;33m,\u001b[0m \u001b[1;33m*\u001b[0m\u001b[0margs\u001b[0m\u001b[1;33m,\u001b[0m \u001b[1;33m**\u001b[0m\u001b[0mkwargs\u001b[0m\u001b[1;33m)\u001b[0m\u001b[1;33m\u001b[0m\u001b[0m\n\u001b[0m\u001b[0;32m   3725\u001b[0m         \u001b[1;32mif\u001b[0m \u001b[0mhow\u001b[0m \u001b[1;32mis\u001b[0m \u001b[1;32mNone\u001b[0m\u001b[1;33m:\u001b[0m\u001b[1;33m\u001b[0m\u001b[0m\n\u001b[0;32m   3726\u001b[0m             \u001b[1;32mreturn\u001b[0m \u001b[0mresult\u001b[0m\u001b[1;33m\u001b[0m\u001b[0m\n",
      "\u001b[1;32mC:\\ProgramData\\Anaconda3\\lib\\site-packages\\pandas\\core\\base.py\u001b[0m in \u001b[0;36m_aggregate\u001b[1;34m(self, arg, *args, **kwargs)\u001b[0m\n\u001b[0;32m    476\u001b[0m \u001b[1;33m\u001b[0m\u001b[0m\n\u001b[0;32m    477\u001b[0m                 \u001b[1;32mtry\u001b[0m\u001b[1;33m:\u001b[0m\u001b[1;33m\u001b[0m\u001b[0m\n\u001b[1;32m--> 478\u001b[1;33m                     \u001b[0mresult\u001b[0m \u001b[1;33m=\u001b[0m \u001b[0m_agg\u001b[0m\u001b[1;33m(\u001b[0m\u001b[0marg\u001b[0m\u001b[1;33m,\u001b[0m \u001b[0m_agg_1dim\u001b[0m\u001b[1;33m)\u001b[0m\u001b[1;33m\u001b[0m\u001b[0m\n\u001b[0m\u001b[0;32m    479\u001b[0m                 \u001b[1;32mexcept\u001b[0m \u001b[0mSpecificationError\u001b[0m\u001b[1;33m:\u001b[0m\u001b[1;33m\u001b[0m\u001b[0m\n\u001b[0;32m    480\u001b[0m \u001b[1;33m\u001b[0m\u001b[0m\n",
      "\u001b[1;32mC:\\ProgramData\\Anaconda3\\lib\\site-packages\\pandas\\core\\base.py\u001b[0m in \u001b[0;36m_agg\u001b[1;34m(arg, func)\u001b[0m\n\u001b[0;32m    427\u001b[0m                 \u001b[0mresult\u001b[0m \u001b[1;33m=\u001b[0m \u001b[0mcompat\u001b[0m\u001b[1;33m.\u001b[0m\u001b[0mOrderedDict\u001b[0m\u001b[1;33m(\u001b[0m\u001b[1;33m)\u001b[0m\u001b[1;33m\u001b[0m\u001b[0m\n\u001b[0;32m    428\u001b[0m                 \u001b[1;32mfor\u001b[0m \u001b[0mfname\u001b[0m\u001b[1;33m,\u001b[0m \u001b[0magg_how\u001b[0m \u001b[1;32min\u001b[0m \u001b[0mcompat\u001b[0m\u001b[1;33m.\u001b[0m\u001b[0miteritems\u001b[0m\u001b[1;33m(\u001b[0m\u001b[0marg\u001b[0m\u001b[1;33m)\u001b[0m\u001b[1;33m:\u001b[0m\u001b[1;33m\u001b[0m\u001b[0m\n\u001b[1;32m--> 429\u001b[1;33m                     \u001b[0mresult\u001b[0m\u001b[1;33m[\u001b[0m\u001b[0mfname\u001b[0m\u001b[1;33m]\u001b[0m \u001b[1;33m=\u001b[0m \u001b[0mfunc\u001b[0m\u001b[1;33m(\u001b[0m\u001b[0mfname\u001b[0m\u001b[1;33m,\u001b[0m \u001b[0magg_how\u001b[0m\u001b[1;33m)\u001b[0m\u001b[1;33m\u001b[0m\u001b[0m\n\u001b[0m\u001b[0;32m    430\u001b[0m                 \u001b[1;32mreturn\u001b[0m \u001b[0mresult\u001b[0m\u001b[1;33m\u001b[0m\u001b[0m\n\u001b[0;32m    431\u001b[0m \u001b[1;33m\u001b[0m\u001b[0m\n",
      "\u001b[1;32mC:\\ProgramData\\Anaconda3\\lib\\site-packages\\pandas\\core\\base.py\u001b[0m in \u001b[0;36m_agg_1dim\u001b[1;34m(name, how, subset)\u001b[0m\n\u001b[0;32m    406\u001b[0m                 \u001b[0maggregate\u001b[0m \u001b[0ma\u001b[0m \u001b[1;36m1\u001b[0m\u001b[1;33m-\u001b[0m\u001b[0mdim\u001b[0m \u001b[1;32mwith\u001b[0m \u001b[0mhow\u001b[0m\u001b[1;33m\u001b[0m\u001b[0m\n\u001b[0;32m    407\u001b[0m                 \"\"\"\n\u001b[1;32m--> 408\u001b[1;33m                 \u001b[0mcolg\u001b[0m \u001b[1;33m=\u001b[0m \u001b[0mself\u001b[0m\u001b[1;33m.\u001b[0m\u001b[0m_gotitem\u001b[0m\u001b[1;33m(\u001b[0m\u001b[0mname\u001b[0m\u001b[1;33m,\u001b[0m \u001b[0mndim\u001b[0m\u001b[1;33m=\u001b[0m\u001b[1;36m1\u001b[0m\u001b[1;33m,\u001b[0m \u001b[0msubset\u001b[0m\u001b[1;33m=\u001b[0m\u001b[0msubset\u001b[0m\u001b[1;33m)\u001b[0m\u001b[1;33m\u001b[0m\u001b[0m\n\u001b[0m\u001b[0;32m    409\u001b[0m                 \u001b[1;32mif\u001b[0m \u001b[0mcolg\u001b[0m\u001b[1;33m.\u001b[0m\u001b[0mndim\u001b[0m \u001b[1;33m!=\u001b[0m \u001b[1;36m1\u001b[0m\u001b[1;33m:\u001b[0m\u001b[1;33m\u001b[0m\u001b[0m\n\u001b[0;32m    410\u001b[0m                     raise SpecificationError(\"nested dictionary is ambiguous \"\n",
      "\u001b[1;32mC:\\ProgramData\\Anaconda3\\lib\\site-packages\\pandas\\core\\groupby.py\u001b[0m in \u001b[0;36m_gotitem\u001b[1;34m(self, key, ndim, subset)\u001b[0m\n\u001b[0;32m   4316\u001b[0m         \u001b[1;32melif\u001b[0m \u001b[0mndim\u001b[0m \u001b[1;33m==\u001b[0m \u001b[1;36m1\u001b[0m\u001b[1;33m:\u001b[0m\u001b[1;33m\u001b[0m\u001b[0m\n\u001b[0;32m   4317\u001b[0m             \u001b[1;32mif\u001b[0m \u001b[0msubset\u001b[0m \u001b[1;32mis\u001b[0m \u001b[1;32mNone\u001b[0m\u001b[1;33m:\u001b[0m\u001b[1;33m\u001b[0m\u001b[0m\n\u001b[1;32m-> 4318\u001b[1;33m                 \u001b[0msubset\u001b[0m \u001b[1;33m=\u001b[0m \u001b[0mself\u001b[0m\u001b[1;33m.\u001b[0m\u001b[0mobj\u001b[0m\u001b[1;33m[\u001b[0m\u001b[0mkey\u001b[0m\u001b[1;33m]\u001b[0m\u001b[1;33m\u001b[0m\u001b[0m\n\u001b[0m\u001b[0;32m   4319\u001b[0m             return SeriesGroupBy(subset, selection=key,\n\u001b[0;32m   4320\u001b[0m                                  grouper=self.grouper)\n",
      "\u001b[1;32mC:\\ProgramData\\Anaconda3\\lib\\site-packages\\pandas\\core\\frame.py\u001b[0m in \u001b[0;36m__getitem__\u001b[1;34m(self, key)\u001b[0m\n\u001b[0;32m   2137\u001b[0m             \u001b[1;32mreturn\u001b[0m \u001b[0mself\u001b[0m\u001b[1;33m.\u001b[0m\u001b[0m_getitem_multilevel\u001b[0m\u001b[1;33m(\u001b[0m\u001b[0mkey\u001b[0m\u001b[1;33m)\u001b[0m\u001b[1;33m\u001b[0m\u001b[0m\n\u001b[0;32m   2138\u001b[0m         \u001b[1;32melse\u001b[0m\u001b[1;33m:\u001b[0m\u001b[1;33m\u001b[0m\u001b[0m\n\u001b[1;32m-> 2139\u001b[1;33m             \u001b[1;32mreturn\u001b[0m \u001b[0mself\u001b[0m\u001b[1;33m.\u001b[0m\u001b[0m_getitem_column\u001b[0m\u001b[1;33m(\u001b[0m\u001b[0mkey\u001b[0m\u001b[1;33m)\u001b[0m\u001b[1;33m\u001b[0m\u001b[0m\n\u001b[0m\u001b[0;32m   2140\u001b[0m \u001b[1;33m\u001b[0m\u001b[0m\n\u001b[0;32m   2141\u001b[0m     \u001b[1;32mdef\u001b[0m \u001b[0m_getitem_column\u001b[0m\u001b[1;33m(\u001b[0m\u001b[0mself\u001b[0m\u001b[1;33m,\u001b[0m \u001b[0mkey\u001b[0m\u001b[1;33m)\u001b[0m\u001b[1;33m:\u001b[0m\u001b[1;33m\u001b[0m\u001b[0m\n",
      "\u001b[1;32mC:\\ProgramData\\Anaconda3\\lib\\site-packages\\pandas\\core\\frame.py\u001b[0m in \u001b[0;36m_getitem_column\u001b[1;34m(self, key)\u001b[0m\n\u001b[0;32m   2144\u001b[0m         \u001b[1;31m# get column\u001b[0m\u001b[1;33m\u001b[0m\u001b[1;33m\u001b[0m\u001b[0m\n\u001b[0;32m   2145\u001b[0m         \u001b[1;32mif\u001b[0m \u001b[0mself\u001b[0m\u001b[1;33m.\u001b[0m\u001b[0mcolumns\u001b[0m\u001b[1;33m.\u001b[0m\u001b[0mis_unique\u001b[0m\u001b[1;33m:\u001b[0m\u001b[1;33m\u001b[0m\u001b[0m\n\u001b[1;32m-> 2146\u001b[1;33m             \u001b[1;32mreturn\u001b[0m \u001b[0mself\u001b[0m\u001b[1;33m.\u001b[0m\u001b[0m_get_item_cache\u001b[0m\u001b[1;33m(\u001b[0m\u001b[0mkey\u001b[0m\u001b[1;33m)\u001b[0m\u001b[1;33m\u001b[0m\u001b[0m\n\u001b[0m\u001b[0;32m   2147\u001b[0m \u001b[1;33m\u001b[0m\u001b[0m\n\u001b[0;32m   2148\u001b[0m         \u001b[1;31m# duplicate columns & possible reduce dimensionality\u001b[0m\u001b[1;33m\u001b[0m\u001b[1;33m\u001b[0m\u001b[0m\n",
      "\u001b[1;32mC:\\ProgramData\\Anaconda3\\lib\\site-packages\\pandas\\core\\generic.py\u001b[0m in \u001b[0;36m_get_item_cache\u001b[1;34m(self, item)\u001b[0m\n\u001b[0;32m   1840\u001b[0m         \u001b[0mres\u001b[0m \u001b[1;33m=\u001b[0m \u001b[0mcache\u001b[0m\u001b[1;33m.\u001b[0m\u001b[0mget\u001b[0m\u001b[1;33m(\u001b[0m\u001b[0mitem\u001b[0m\u001b[1;33m)\u001b[0m\u001b[1;33m\u001b[0m\u001b[0m\n\u001b[0;32m   1841\u001b[0m         \u001b[1;32mif\u001b[0m \u001b[0mres\u001b[0m \u001b[1;32mis\u001b[0m \u001b[1;32mNone\u001b[0m\u001b[1;33m:\u001b[0m\u001b[1;33m\u001b[0m\u001b[0m\n\u001b[1;32m-> 1842\u001b[1;33m             \u001b[0mvalues\u001b[0m \u001b[1;33m=\u001b[0m \u001b[0mself\u001b[0m\u001b[1;33m.\u001b[0m\u001b[0m_data\u001b[0m\u001b[1;33m.\u001b[0m\u001b[0mget\u001b[0m\u001b[1;33m(\u001b[0m\u001b[0mitem\u001b[0m\u001b[1;33m)\u001b[0m\u001b[1;33m\u001b[0m\u001b[0m\n\u001b[0m\u001b[0;32m   1843\u001b[0m             \u001b[0mres\u001b[0m \u001b[1;33m=\u001b[0m \u001b[0mself\u001b[0m\u001b[1;33m.\u001b[0m\u001b[0m_box_item_values\u001b[0m\u001b[1;33m(\u001b[0m\u001b[0mitem\u001b[0m\u001b[1;33m,\u001b[0m \u001b[0mvalues\u001b[0m\u001b[1;33m)\u001b[0m\u001b[1;33m\u001b[0m\u001b[0m\n\u001b[0;32m   1844\u001b[0m             \u001b[0mcache\u001b[0m\u001b[1;33m[\u001b[0m\u001b[0mitem\u001b[0m\u001b[1;33m]\u001b[0m \u001b[1;33m=\u001b[0m \u001b[0mres\u001b[0m\u001b[1;33m\u001b[0m\u001b[0m\n",
      "\u001b[1;32mC:\\ProgramData\\Anaconda3\\lib\\site-packages\\pandas\\core\\internals.py\u001b[0m in \u001b[0;36mget\u001b[1;34m(self, item, fastpath)\u001b[0m\n\u001b[0;32m   3841\u001b[0m \u001b[1;33m\u001b[0m\u001b[0m\n\u001b[0;32m   3842\u001b[0m             \u001b[1;32mif\u001b[0m \u001b[1;32mnot\u001b[0m \u001b[0misna\u001b[0m\u001b[1;33m(\u001b[0m\u001b[0mitem\u001b[0m\u001b[1;33m)\u001b[0m\u001b[1;33m:\u001b[0m\u001b[1;33m\u001b[0m\u001b[0m\n\u001b[1;32m-> 3843\u001b[1;33m                 \u001b[0mloc\u001b[0m \u001b[1;33m=\u001b[0m \u001b[0mself\u001b[0m\u001b[1;33m.\u001b[0m\u001b[0mitems\u001b[0m\u001b[1;33m.\u001b[0m\u001b[0mget_loc\u001b[0m\u001b[1;33m(\u001b[0m\u001b[0mitem\u001b[0m\u001b[1;33m)\u001b[0m\u001b[1;33m\u001b[0m\u001b[0m\n\u001b[0m\u001b[0;32m   3844\u001b[0m             \u001b[1;32melse\u001b[0m\u001b[1;33m:\u001b[0m\u001b[1;33m\u001b[0m\u001b[0m\n\u001b[0;32m   3845\u001b[0m                 \u001b[0mindexer\u001b[0m \u001b[1;33m=\u001b[0m \u001b[0mnp\u001b[0m\u001b[1;33m.\u001b[0m\u001b[0marange\u001b[0m\u001b[1;33m(\u001b[0m\u001b[0mlen\u001b[0m\u001b[1;33m(\u001b[0m\u001b[0mself\u001b[0m\u001b[1;33m.\u001b[0m\u001b[0mitems\u001b[0m\u001b[1;33m)\u001b[0m\u001b[1;33m)\u001b[0m\u001b[1;33m[\u001b[0m\u001b[0misna\u001b[0m\u001b[1;33m(\u001b[0m\u001b[0mself\u001b[0m\u001b[1;33m.\u001b[0m\u001b[0mitems\u001b[0m\u001b[1;33m)\u001b[0m\u001b[1;33m]\u001b[0m\u001b[1;33m\u001b[0m\u001b[0m\n",
      "\u001b[1;32mC:\\ProgramData\\Anaconda3\\lib\\site-packages\\pandas\\core\\indexes\\base.py\u001b[0m in \u001b[0;36mget_loc\u001b[1;34m(self, key, method, tolerance)\u001b[0m\n\u001b[0;32m   2525\u001b[0m                 \u001b[1;32mreturn\u001b[0m \u001b[0mself\u001b[0m\u001b[1;33m.\u001b[0m\u001b[0m_engine\u001b[0m\u001b[1;33m.\u001b[0m\u001b[0mget_loc\u001b[0m\u001b[1;33m(\u001b[0m\u001b[0mkey\u001b[0m\u001b[1;33m)\u001b[0m\u001b[1;33m\u001b[0m\u001b[0m\n\u001b[0;32m   2526\u001b[0m             \u001b[1;32mexcept\u001b[0m \u001b[0mKeyError\u001b[0m\u001b[1;33m:\u001b[0m\u001b[1;33m\u001b[0m\u001b[0m\n\u001b[1;32m-> 2527\u001b[1;33m                 \u001b[1;32mreturn\u001b[0m \u001b[0mself\u001b[0m\u001b[1;33m.\u001b[0m\u001b[0m_engine\u001b[0m\u001b[1;33m.\u001b[0m\u001b[0mget_loc\u001b[0m\u001b[1;33m(\u001b[0m\u001b[0mself\u001b[0m\u001b[1;33m.\u001b[0m\u001b[0m_maybe_cast_indexer\u001b[0m\u001b[1;33m(\u001b[0m\u001b[0mkey\u001b[0m\u001b[1;33m)\u001b[0m\u001b[1;33m)\u001b[0m\u001b[1;33m\u001b[0m\u001b[0m\n\u001b[0m\u001b[0;32m   2528\u001b[0m \u001b[1;33m\u001b[0m\u001b[0m\n\u001b[0;32m   2529\u001b[0m         \u001b[0mindexer\u001b[0m \u001b[1;33m=\u001b[0m \u001b[0mself\u001b[0m\u001b[1;33m.\u001b[0m\u001b[0mget_indexer\u001b[0m\u001b[1;33m(\u001b[0m\u001b[1;33m[\u001b[0m\u001b[0mkey\u001b[0m\u001b[1;33m]\u001b[0m\u001b[1;33m,\u001b[0m \u001b[0mmethod\u001b[0m\u001b[1;33m=\u001b[0m\u001b[0mmethod\u001b[0m\u001b[1;33m,\u001b[0m \u001b[0mtolerance\u001b[0m\u001b[1;33m=\u001b[0m\u001b[0mtolerance\u001b[0m\u001b[1;33m)\u001b[0m\u001b[1;33m\u001b[0m\u001b[0m\n",
      "\u001b[1;32mpandas/_libs/index.pyx\u001b[0m in \u001b[0;36mpandas._libs.index.IndexEngine.get_loc\u001b[1;34m()\u001b[0m\n",
      "\u001b[1;32mpandas/_libs/index.pyx\u001b[0m in \u001b[0;36mpandas._libs.index.IndexEngine.get_loc\u001b[1;34m()\u001b[0m\n",
      "\u001b[1;32mpandas/_libs/hashtable_class_helper.pxi\u001b[0m in \u001b[0;36mpandas._libs.hashtable.PyObjectHashTable.get_item\u001b[1;34m()\u001b[0m\n",
      "\u001b[1;32mpandas/_libs/hashtable_class_helper.pxi\u001b[0m in \u001b[0;36mpandas._libs.hashtable.PyObjectHashTable.get_item\u001b[1;34m()\u001b[0m\n",
      "\u001b[1;31mKeyError\u001b[0m: 'count'"
     ]
    }
   ],
   "source": [
    "#print(df1_Toronto.sort_values([('Date.count')], ascending=[1]))\n",
    "df_agg = df_DateTag.groupby(['Location','TagName']).agg({'count':sum})\n",
    "g = df_agg['count'].groupby(level=0, group_keys=False)\n",
    "res = g.apply(lambda x: x.order(ascending=False).head(3))\n"
   ]
  },
  {
   "cell_type": "code",
   "execution_count": 103,
   "metadata": {},
   "outputs": [
    {
     "ename": "ValueError",
     "evalue": "operands could not be broadcast together with shapes (19,) (2,) ",
     "output_type": "error",
     "traceback": [
      "\u001b[1;31m---------------------------------------------------------------------------\u001b[0m",
      "\u001b[1;31mValueError\u001b[0m                                Traceback (most recent call last)",
      "\u001b[1;32m<ipython-input-103-12e7ec176296>\u001b[0m in \u001b[0;36m<module>\u001b[1;34m()\u001b[0m\n\u001b[1;32m----> 1\u001b[1;33m \u001b[0mdf3\u001b[0m\u001b[1;33m.\u001b[0m\u001b[0mcount\u001b[0m\u001b[1;33m(\u001b[0m\u001b[1;33m)\u001b[0m\u001b[1;33m\u001b[0m\u001b[0m\n\u001b[0m",
      "\u001b[1;32mC:\\ProgramData\\Anaconda3\\lib\\site-packages\\pandas\\core\\groupby.py\u001b[0m in \u001b[0;36mcount\u001b[1;34m(self)\u001b[0m\n\u001b[0;32m   3571\u001b[0m         \u001b[0mval\u001b[0m \u001b[1;33m=\u001b[0m \u001b[0mself\u001b[0m\u001b[1;33m.\u001b[0m\u001b[0mobj\u001b[0m\u001b[1;33m.\u001b[0m\u001b[0mget_values\u001b[0m\u001b[1;33m(\u001b[0m\u001b[1;33m)\u001b[0m\u001b[1;33m\u001b[0m\u001b[0m\n\u001b[0;32m   3572\u001b[0m \u001b[1;33m\u001b[0m\u001b[0m\n\u001b[1;32m-> 3573\u001b[1;33m         \u001b[0mmask\u001b[0m \u001b[1;33m=\u001b[0m \u001b[1;33m(\u001b[0m\u001b[0mids\u001b[0m \u001b[1;33m!=\u001b[0m \u001b[1;33m-\u001b[0m\u001b[1;36m1\u001b[0m\u001b[1;33m)\u001b[0m \u001b[1;33m&\u001b[0m \u001b[1;33m~\u001b[0m\u001b[0misna\u001b[0m\u001b[1;33m(\u001b[0m\u001b[0mval\u001b[0m\u001b[1;33m)\u001b[0m\u001b[1;33m\u001b[0m\u001b[0m\n\u001b[0m\u001b[0;32m   3574\u001b[0m         \u001b[0mids\u001b[0m \u001b[1;33m=\u001b[0m \u001b[0m_ensure_platform_int\u001b[0m\u001b[1;33m(\u001b[0m\u001b[0mids\u001b[0m\u001b[1;33m)\u001b[0m\u001b[1;33m\u001b[0m\u001b[0m\n\u001b[0;32m   3575\u001b[0m         \u001b[0mout\u001b[0m \u001b[1;33m=\u001b[0m \u001b[0mnp\u001b[0m\u001b[1;33m.\u001b[0m\u001b[0mbincount\u001b[0m\u001b[1;33m(\u001b[0m\u001b[0mids\u001b[0m\u001b[1;33m[\u001b[0m\u001b[0mmask\u001b[0m\u001b[1;33m]\u001b[0m\u001b[1;33m,\u001b[0m \u001b[0mminlength\u001b[0m\u001b[1;33m=\u001b[0m\u001b[0mngroups\u001b[0m \u001b[1;32mor\u001b[0m \u001b[1;32mNone\u001b[0m\u001b[1;33m)\u001b[0m\u001b[1;33m\u001b[0m\u001b[0m\n",
      "\u001b[1;31mValueError\u001b[0m: operands could not be broadcast together with shapes (19,) (2,) "
     ]
    }
   ],
   "source": [
    "df3.count()"
   ]
  },
  {
   "cell_type": "code",
   "execution_count": 95,
   "metadata": {},
   "outputs": [
    {
     "name": "stdout",
     "output_type": "stream",
     "text": [
      "     A      B         C         D\n",
      "0  foo    one -1.201921 -1.048335\n",
      "1  bar    one -0.259593  0.760420\n",
      "2  foo    two -0.035568 -0.409784\n",
      "3  bar  three -1.861061  0.199728\n",
      "4  foo    two -0.609938  0.822887\n",
      "5  bar    two -0.335778  2.409078\n",
      "6  foo    one  0.310329 -0.042230\n",
      "7  foo  three  1.210269  0.526611\n"
     ]
    }
   ],
   "source": [
    "df = pd.DataFrame({'A' : ['foo', 'bar', 'foo', 'bar',\n",
    "   ...:                           'foo', 'bar', 'foo', 'foo'],\n",
    "   ...:                    'B' : ['one', 'one', 'two', 'three',\n",
    "   ...:                           'two', 'two', 'one', 'three'],\n",
    "   ...:                    'C' : np.random.randn(8),\n",
    "   ...:                    'D' : np.random.randn(8)})\n",
    "print(df)"
   ]
  },
  {
   "cell_type": "code",
   "execution_count": 97,
   "metadata": {},
   "outputs": [
    {
     "ename": "TypeError",
     "evalue": "unhashable type: 'list'",
     "output_type": "error",
     "traceback": [
      "\u001b[1;31m---------------------------------------------------------------------------\u001b[0m",
      "\u001b[1;31mTypeError\u001b[0m                                 Traceback (most recent call last)",
      "\u001b[1;32m<ipython-input-97-c8e2f8e80181>\u001b[0m in \u001b[0;36m<module>\u001b[1;34m()\u001b[0m\n\u001b[1;32m----> 1\u001b[1;33m \u001b[0mgrouped\u001b[0m \u001b[1;33m=\u001b[0m \u001b[0mdf\u001b[0m\u001b[1;33m.\u001b[0m\u001b[0mgroupby\u001b[0m\u001b[1;33m(\u001b[0m\u001b[1;33m[\u001b[0m\u001b[1;34m'A'\u001b[0m\u001b[1;33m]\u001b[0m\u001b[1;33m,\u001b[0m\u001b[1;33m[\u001b[0m\u001b[1;34m'B'\u001b[0m\u001b[1;33m]\u001b[0m\u001b[1;33m)\u001b[0m\u001b[1;33m\u001b[0m\u001b[0m\n\u001b[0m\u001b[0;32m      2\u001b[0m \u001b[0mprint\u001b[0m\u001b[1;33m(\u001b[0m\u001b[0mgrouped\u001b[0m\u001b[1;33m)\u001b[0m\u001b[1;33m\u001b[0m\u001b[0m\n",
      "\u001b[1;32mC:\\ProgramData\\Anaconda3\\lib\\site-packages\\pandas\\core\\generic.py\u001b[0m in \u001b[0;36mgroupby\u001b[1;34m(self, by, axis, level, as_index, sort, group_keys, squeeze, **kwargs)\u001b[0m\n\u001b[0;32m   5157\u001b[0m         \u001b[1;32mif\u001b[0m \u001b[0mlevel\u001b[0m \u001b[1;32mis\u001b[0m \u001b[1;32mNone\u001b[0m \u001b[1;32mand\u001b[0m \u001b[0mby\u001b[0m \u001b[1;32mis\u001b[0m \u001b[1;32mNone\u001b[0m\u001b[1;33m:\u001b[0m\u001b[1;33m\u001b[0m\u001b[0m\n\u001b[0;32m   5158\u001b[0m             \u001b[1;32mraise\u001b[0m \u001b[0mTypeError\u001b[0m\u001b[1;33m(\u001b[0m\u001b[1;34m\"You have to supply one of 'by' and 'level'\"\u001b[0m\u001b[1;33m)\u001b[0m\u001b[1;33m\u001b[0m\u001b[0m\n\u001b[1;32m-> 5159\u001b[1;33m         \u001b[0maxis\u001b[0m \u001b[1;33m=\u001b[0m \u001b[0mself\u001b[0m\u001b[1;33m.\u001b[0m\u001b[0m_get_axis_number\u001b[0m\u001b[1;33m(\u001b[0m\u001b[0maxis\u001b[0m\u001b[1;33m)\u001b[0m\u001b[1;33m\u001b[0m\u001b[0m\n\u001b[0m\u001b[0;32m   5160\u001b[0m         return groupby(self, by=by, axis=axis, level=level, as_index=as_index,\n\u001b[0;32m   5161\u001b[0m                        \u001b[0msort\u001b[0m\u001b[1;33m=\u001b[0m\u001b[0msort\u001b[0m\u001b[1;33m,\u001b[0m \u001b[0mgroup_keys\u001b[0m\u001b[1;33m=\u001b[0m\u001b[0mgroup_keys\u001b[0m\u001b[1;33m,\u001b[0m \u001b[0msqueeze\u001b[0m\u001b[1;33m=\u001b[0m\u001b[0msqueeze\u001b[0m\u001b[1;33m,\u001b[0m\u001b[1;33m\u001b[0m\u001b[0m\n",
      "\u001b[1;32mC:\\ProgramData\\Anaconda3\\lib\\site-packages\\pandas\\core\\generic.py\u001b[0m in \u001b[0;36m_get_axis_number\u001b[1;34m(self, axis)\u001b[0m\n\u001b[0;32m    345\u001b[0m \u001b[1;33m\u001b[0m\u001b[0m\n\u001b[0;32m    346\u001b[0m     \u001b[1;32mdef\u001b[0m \u001b[0m_get_axis_number\u001b[0m\u001b[1;33m(\u001b[0m\u001b[0mself\u001b[0m\u001b[1;33m,\u001b[0m \u001b[0maxis\u001b[0m\u001b[1;33m)\u001b[0m\u001b[1;33m:\u001b[0m\u001b[1;33m\u001b[0m\u001b[0m\n\u001b[1;32m--> 347\u001b[1;33m         \u001b[0maxis\u001b[0m \u001b[1;33m=\u001b[0m \u001b[0mself\u001b[0m\u001b[1;33m.\u001b[0m\u001b[0m_AXIS_ALIASES\u001b[0m\u001b[1;33m.\u001b[0m\u001b[0mget\u001b[0m\u001b[1;33m(\u001b[0m\u001b[0maxis\u001b[0m\u001b[1;33m,\u001b[0m \u001b[0maxis\u001b[0m\u001b[1;33m)\u001b[0m\u001b[1;33m\u001b[0m\u001b[0m\n\u001b[0m\u001b[0;32m    348\u001b[0m         \u001b[1;32mif\u001b[0m \u001b[0mis_integer\u001b[0m\u001b[1;33m(\u001b[0m\u001b[0maxis\u001b[0m\u001b[1;33m)\u001b[0m\u001b[1;33m:\u001b[0m\u001b[1;33m\u001b[0m\u001b[0m\n\u001b[0;32m    349\u001b[0m             \u001b[1;32mif\u001b[0m \u001b[0maxis\u001b[0m \u001b[1;32min\u001b[0m \u001b[0mself\u001b[0m\u001b[1;33m.\u001b[0m\u001b[0m_AXIS_NAMES\u001b[0m\u001b[1;33m:\u001b[0m\u001b[1;33m\u001b[0m\u001b[0m\n",
      "\u001b[1;31mTypeError\u001b[0m: unhashable type: 'list'"
     ]
    }
   ],
   "source": [
    "grouped = df.groupby(['A'],['B'])\n",
    "print(grouped)"
   ]
  },
  {
   "cell_type": "code",
   "execution_count": 76,
   "metadata": {},
   "outputs": [
    {
     "data": {
      "text/html": [
       "<div>\n",
       "<style scoped>\n",
       "    .dataframe tbody tr th:only-of-type {\n",
       "        vertical-align: middle;\n",
       "    }\n",
       "\n",
       "    .dataframe tbody tr th {\n",
       "        vertical-align: top;\n",
       "    }\n",
       "\n",
       "    .dataframe thead th {\n",
       "        text-align: right;\n",
       "    }\n",
       "</style>\n",
       "<table border=\"1\" class=\"dataframe\">\n",
       "  <thead>\n",
       "    <tr style=\"text-align: right;\">\n",
       "      <th></th>\n",
       "      <th>B</th>\n",
       "      <th>C</th>\n",
       "      <th>D</th>\n",
       "    </tr>\n",
       "    <tr>\n",
       "      <th>A</th>\n",
       "      <th></th>\n",
       "      <th></th>\n",
       "      <th></th>\n",
       "    </tr>\n",
       "  </thead>\n",
       "  <tbody>\n",
       "    <tr>\n",
       "      <th>bar</th>\n",
       "      <td>3</td>\n",
       "      <td>3</td>\n",
       "      <td>3</td>\n",
       "    </tr>\n",
       "    <tr>\n",
       "      <th>foo</th>\n",
       "      <td>5</td>\n",
       "      <td>5</td>\n",
       "      <td>5</td>\n",
       "    </tr>\n",
       "  </tbody>\n",
       "</table>\n",
       "</div>"
      ],
      "text/plain": [
       "     B  C  D\n",
       "A           \n",
       "bar  3  3  3\n",
       "foo  5  5  5"
      ]
     },
     "execution_count": 76,
     "metadata": {},
     "output_type": "execute_result"
    }
   ],
   "source": [
    "grouped.count()"
   ]
  },
  {
   "cell_type": "code",
   "execution_count": null,
   "metadata": {},
   "outputs": [],
   "source": []
  }
 ],
 "metadata": {
  "kernelspec": {
   "display_name": "Python 3",
   "language": "python",
   "name": "python3"
  },
  "language_info": {
   "codemirror_mode": {
    "name": "ipython",
    "version": 3
   },
   "file_extension": ".py",
   "mimetype": "text/x-python",
   "name": "python",
   "nbconvert_exporter": "python",
   "pygments_lexer": "ipython3",
   "version": "3.6.4"
  }
 },
 "nbformat": 4,
 "nbformat_minor": 2
}
